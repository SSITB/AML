{
 "cells": [
  {
   "cell_type": "markdown",
   "metadata": {},
   "source": [
    "2017 Edition"
   ]
  },
  {
   "cell_type": "markdown",
   "metadata": {},
   "source": [
    "In this notebook, we will learn how to solve the regression problem of predicting flight delays, using decision trees and random forests.\n",
    "\n",
    "# Goals\n",
    "The main goals of this project are the following:\n",
    "1. Revisit the concepts behind Decision Trees and Random Forests\n",
    "2. Build a simple methodology to address Data Science projects\n",
    "3. Use the existing implementation of Random Forests in MLLib in a specific use case, that is to predict the delay of flights\n",
    "\n",
    "# Steps\n",
    "\n",
    "- First, in section 1, we will go through a short introduction about the fundamentals of Decision Trees and Random Forests, such as feature definition, the form of a decision tree, how does it work and the idea of a forest of decision trees. If the student is familiar with these topics, skip to section 2.\n",
    "- In section 2, we delve into the details of the use case of this notebook including: providing the context, introducing the data and the basic methodology to address the project in this notebook\n",
    "- In section 3, we perform data exploration\n",
    "- In section 4, we build the statistical model and validate it"
   ]
  },
  {
   "cell_type": "markdown",
   "metadata": {},
   "source": [
    "# 1. Decision trees and Random Forests: Simple but Powerful Algorithms\n",
    "> Prediction is very difficult, especially if it’s about the future. (Niels Bohr)\n",
    "\n",
    "Decision trees are a very popular approach to prediction problems. Decision trees can be trained from both categorical and numerical features, to perform classification and regression. They are the oldest and most well-studied types of predictive analytics. In many analytics packages and libraries, most algorithms are devoted either to address classification or regression problems, and they include for example support vector machines (SVM), neural networks, naïve Bayes, logistic regression, and deep learning...\n",
    "\n",
    "In general, classification refers to the problem of predicting a label, or category, like *spam/not spam*, *rainy/sunny/mild*, for some given data. Regression refers to predicting a numeric quantity like salary, temperature, delay time, product's price. Both classification and regression involve predicting one (or more) values given one (or more) other input values. They require labelled data to perform a training phase, which builds the statistical model: they belong to *supervised learning* techniques.\n",
    "\n",
    "## 1.1 Feature definition\n",
    "To understand how regression and classification operate, it is necessary to briefly define the terms that describe their input and output. \n",
    "\n",
    "Assume that we want to predict the temperature of tomorrow given today's weather information.\n",
    "The weather information is a loose concept. For example, we can use many variables to express today's weather such as:\n",
    "* the average humidity today\n",
    "* today’s high temperature\n",
    "* today’s low temperature \n",
    "* wind speed\n",
    "* outlook: e.g. cloudy, rainy, or clear\n",
    "* ....\n",
    "\n",
    "These variables are called *features* or *dimensions*. \n",
    "\n",
    "Each variable can be quantified. For example, high and low temperatures are measured in degrees Celsius, humidity can be measured as a fraction between 0 and 1, and weather type can be labeled `cloudy`, `rainy` or `clear`...\n",
    "So, the weather today can be expressed by a list of values: `11.4, 18.0, 0.64, 20, cloudy`. \n",
    "Each feature is also called a `predictor`. Together, they constitute a `feature vector`.\n",
    "\n",
    "A feature whose domain is a set of categories is called **categorical feature**. In our example, `outlook` is a  categorical feature. A feature whose values are numerical is called **numerical feature**. In our example, `temperature` is a numerical feature.\n",
    "\n",
    "Finally, tomorrow's temperature, that is what we want to predict, is called *target feature*.\n",
    "\n",
    "## 1.2 Decision Trees & Random Forests\n",
    "The first question that you might ask is: \"Why Decision trees and not another approach?\"\n",
    "\n",
    "Well, the literature shows that the family of algorithms known as decision trees can naturally handle both categorical and numeric features. The training process is easy to understand. The model is easy to interpret. They are robust to outliers in the data, meaning that a few extreme and possibly erroneous data points should not affect the tree at all. The model can be trained in parallel easily. The accuracy is comparable to other methods... In short, there are lots of advantages when using decision trees with respect to other methods! \n",
    "\n",
    "The way we use a tree model is very simple to understand. We can say that this process \"mimics\" the way humans take decisions. For example, to decide whether to play football or not, a natural question would be \"does it rain now?\". If yes, the decision is `no`. If it's sunny, the condition is favorable to play football. A second natural question could be: \"is it windy?\". If no, then you may want to stay at home because otherwise it is going to be too hot. Otherwise, a third plausible question could be: \"do we have enough people?\". If no, then there's no point playing. Otherwise, time to play!\n",
    "\n",
    "Using a decision tree allows to follow a similar process to that described above (see the image below). Given a new input, the algorithm traverses the tree in a such a way that the input satisfies the condition of each node until reaching a leaf one. The value of the leaf node is the decision.\n",
    "\n",
    "![A decision tree](https://farm2.staticflickr.com/1690/24308350756_8533286fb5_z.jpg)\n",
    "\n",
    "The tree model in the figure is built from historical information concerning many past days. The `feature predictor` contains three features: Rain, Is_Windy, Enough_People.\n",
    "An example of the training data is as follows:\n",
    "\n",
    "Rain | Is_Windy | Enough_People | Play\n",
    "-----|----------|---------------|------\n",
    "Yes | Yes | No | No\n",
    "No  | No | No | No\n",
    "No | Yes | Yes | Yes\n",
    "No | No | Yes | No\n",
    "\n",
    "As you can see, in the training data, we know the values of predictors and we also know the corresponding answer: we have the ground truth.\n",
    "\n",
    "One limitation of decision trees is that it's easy to incur in overfitting problems. In other words, the model is too fit to the training data, it is too precise and not general enough. So, when testing the quality of predictions with different testing sets, accuracy could fluctuate. To overcome this limitation, the tree can be pruned after it is built, or even be pruned during the training process. Another approach is building a `Random Decision Forest`.\n",
    "\n",
    "A `Random Decision Forest`, as its name implies, is a forest of random Decision trees. Each tree element is built randomly from the training data. Randomization generally applies to:\n",
    "* Building new training data: Random selection of samples from the training data (with replacement) from the original training data\n",
    "* When building a node: Random selection of a subset of features\n",
    "\n",
    "To take a decision, the forest \"asks\" all trees about their prediction, and then chooses the outcome which is the most voted."
   ]
  },
  {
   "cell_type": "markdown",
   "metadata": {},
   "source": [
    "# 2. Use case: Flights delay prediction\n",
    "## 2.1 Context\n",
    "Every day, in US, there are thousands of flights departures and arrivals: unfortunately, as you may have noticed yourself, flight delays are not a rare event!! Now, given historical data about flights in the country, including the delay information that was computed *a-posteriori* (so the ground truth is available), we want to build a model that can be used to predict how many minutes of delay a flight might experience in the future. This model should provide useful information for the airport to manage better its resources, to minimize the delays and their impact on the journey of its passengers. Alternatively, astute passengers could even use the model to choose the best time for flying, such as to avoid delays.\n",
    "\n",
    "## 2.2 Data\n",
    "The data we will use in this notebook has been collected by the RITA (Research and Innovative Technology Administration), and it contains details facets about each air flight that happened in the US between 1987 and 2008. It includes 29 variables such as the origin airport, the destination airport, the scheduled departure time, day, month, the arrival delay... For more information, please visit the following [link](http://stat-computing.org/dataexpo/2009/the-data.html), that provides a lot of detail on the data. Our goal is to build a model to predict `the arrival delay`."
   ]
  },
  {
   "cell_type": "markdown",
   "metadata": {},
   "source": [
    "## 2.3 Methodology\n",
    "For our project, we can follow a simple methodology:\n",
    "\n",
    "- Understand clearly the context, the data and the goal of the project\n",
    "- Pre-process the data (data cleaning): the data can contain invalid values or missing values. We have to process our data to deal with them\n",
    "- Retrieve descriptive information about data: the idea is to discover if whether the data has patterns, whether features have patterns, the skew of values...\n",
    "- Select appropriate features: Only work with significant features will save us memory, communication cost, and ultimately, training time. Feature selection is also important as it can reduce the impact of noise that characterize the unimportant features.\n",
    "- Divide the data into training and testing set\n",
    "- Build a model from the feature in the training set\n",
    "- Test the model"
   ]
  },
  {
   "cell_type": "markdown",
   "metadata": {},
   "source": [
    "# 3. Let's play: Data Exploration\n",
    "Now it's time to apply the simple methodology outlined in section 2.3 on the use case of this notebook.\n",
    "<div class=\"alert alert-danger\">\n",
    "**Note:** The source code in this lecture should be executed sequentially in the order.\n",
    "</div>"
   ]
  },
  {
   "cell_type": "markdown",
   "metadata": {},
   "source": [
    "## 3.1 Understanding the data schema\n",
    "\n",
    "The data has 29 features, that can be either categorical or numerical. For example, the `src_airport` (source airport) is categorical: there exist no comparison operator between airport names. We can not say \"SGN is bigger than NCE\". The departure is numerical, for which a comparison operator exists. For instance, \"flight departing before 6PM\" can be express by \"departure_time < 1800\".\n",
    "\n",
    "In this use case, most features are numerical, except `carier`, `flight_number`, `cancelled`, `cancelation_code` and `diverted`. \n",
    "\n",
    "The data contains a header, that is useless in building the statistical model. In addition, we already know the data schema, so we can safely neglect it. Note that there are some features with missing values in some lines of the dataset. The missing values are marked by \"NA\". These values can cause problems when processing and can lead to unexpected results. Therefore, we need to remove the header and replace all \"NA\" values by empty values, such as they can be interpreted as null values.\n",
    "\n",
    "As we have seen already, there are multiple ways to manipulate data:\n",
    "\n",
    "- Using the RDD abstraction\n",
    "- Using the DataFrame abstraction. DataFrames can be thought of as distributed tables: each item is a list of values  (the columns). Also, the value in each row of each column can be accessed by the column's name.\n",
    "\n",
    "Next, we will focus on using DataFrames. However, to use DataFrames, the data must be clean (no invalid values). That means we cannot create DataFrame directly from the \"RAW\" data. Instead, we will first create an RDD from RAW data, produce a new, clean RDD, then transform it to a DataFrame and work on it. The RDD `cleaned_data` is an RDD[String]. We need to transform it to RDD[(TypeOfColumn1, TypeOfColumn2,.., TypeOfColumn29)] then call a function to create a DataFrame from the new RDD.\n"
   ]
  },
  {
   "cell_type": "markdown",
   "metadata": {},
   "source": [
    "## 3.2 Data cleaning\n",
    "Let's prepare for the cleaning step: Loading the data into an RDD.\n",
    "\n",
    "First, we need to import some useful python modules for this notebook."
   ]
  },
  {
   "cell_type": "code",
   "execution_count": 119,
   "metadata": {
    "collapsed": false
   },
   "outputs": [],
   "source": [
    "import os\n",
    "import sys\n",
    "import re\n",
    "from pyspark import SparkContext\n",
    "from pyspark import SparkContext\n",
    "from pyspark.sql import SQLContext\n",
    "from pyspark.sql.types import *\n",
    "from pyspark.sql import Row\n",
    "from pyspark.sql.functions import *\n",
    "%matplotlib inline\n",
    "import matplotlib.pyplot as plt\n",
    "import pandas as pd\n",
    "import numpy as np\n",
    "import pyspark.sql.functions as func\n",
    "import matplotlib.patches as mpatches\n",
    "import seaborn as sns\n",
    "\n",
    "# to start testing, we can focus on a single year\n",
    "input_path = \"/datasets/airline/1994.csv\"\n",
    "raw_data = sc.textFile(input_path)"
   ]
  },
  {
   "cell_type": "markdown",
   "metadata": {},
   "source": [
    "### Question 1 \n",
    "Remove the header and replace the invalid values in our input dataset.\n",
    "\n",
    "#### Question 1.1\n",
    "\n",
    "<div class=\"alert alert-info\">\n",
    "\n",
    "How many records (rows) in the RAW data?\n",
    "\n",
    "</div>"
   ]
  },
  {
   "cell_type": "code",
   "execution_count": 120,
   "metadata": {
    "collapsed": true
   },
   "outputs": [],
   "source": [
    "#BC = before cleaning, AC = after cleaning\n",
    "rowsBC = raw_data.count()"
   ]
  },
  {
   "cell_type": "code",
   "execution_count": 121,
   "metadata": {
    "collapsed": false
   },
   "outputs": [
    {
     "name": "stdout",
     "output_type": "stream",
     "text": [
      "number of rows before cleaning: 5180049\n"
     ]
    }
   ],
   "source": [
    "print(\"number of rows before cleaning:\", rowsBC)"
   ]
  },
  {
   "cell_type": "markdown",
   "metadata": {},
   "source": [
    "#### Question 1.2\n",
    "\n",
    "\n",
    "<div class=\"alert alert-info\">\n",
    "Except for the first column, the others might contain missing values, which are denoted by `NA`.  \n",
    "\n",
    "Remove the header and replace NA by an empty character. How many records are left after cleaning the RAW dataset?  \n",
    "\n",
    "<div class=\"label label-danger\">**NOTE**:</div> be careful with the valid values that can contain string `NA` inside.\n",
    "</div>"
   ]
  },
  {
   "cell_type": "code",
   "execution_count": 122,
   "metadata": {
    "collapsed": false
   },
   "outputs": [
    {
     "name": "stdout",
     "output_type": "stream",
     "text": [
      "number of rows after cleaning: 5180048\n"
     ]
    }
   ],
   "source": [
    "# extract the header\n",
    "header = raw_data.first()\n",
    "\n",
    "# replace invalid data with NULL and remove header\n",
    "cleaned_data = (raw_data\\\n",
    "        # filter out the header\n",
    "        .filter(lambda line: line != header)\n",
    "        # replace the missing values with empty characters\n",
    "        .map(lambda line: \",\".join([value if value!=\"NA\" else \"\" for value in line.split(\",\")]))\n",
    "        )\n",
    "        \n",
    "print(\"number of rows after cleaning:\", cleaned_data.count())"
   ]
  },
  {
   "cell_type": "markdown",
   "metadata": {},
   "source": [
    "## 3.3 Transforming our data to a DataFrame\n",
    "\n",
    "Now the data is clean, valid and can be used to create DataFrame. First, we will declare the data schema for the DataFrame. By doing that, we can specify the name and data type of each column."
   ]
  },
  {
   "cell_type": "code",
   "execution_count": 123,
   "metadata": {
    "collapsed": true
   },
   "outputs": [],
   "source": [
    "sqlContext = SQLContext(sc)\n",
    "\n",
    "\n",
    "# Declare the data schema\n",
    "# see http://stat-computing.org/dataexpo/2009/the-data.html\n",
    "# for more information\n",
    "airline_data_schema = StructType([ \\\n",
    "    #StructField( name, dataType, nullable)\n",
    "    StructField(\"year\",                     IntegerType(), True), \\\n",
    "    StructField(\"month\",                    IntegerType(), True), \\\n",
    "    StructField(\"day_of_month\",             IntegerType(), True), \\\n",
    "    StructField(\"day_of_week\",              IntegerType(), True), \\\n",
    "    StructField(\"departure_time\",           IntegerType(), True), \\\n",
    "    StructField(\"scheduled_departure_time\", IntegerType(), True), \\\n",
    "    StructField(\"arrival_time\",             IntegerType(), True), \\\n",
    "    StructField(\"scheduled_arrival_time\",   IntegerType(), True), \\\n",
    "    StructField(\"carrier\",                  StringType(),  True), \\\n",
    "    StructField(\"flight_number\",            StringType(),  True), \\\n",
    "    StructField(\"tail_number\",              StringType(), True), \\\n",
    "    StructField(\"actual_elapsed_time\",      IntegerType(), True), \\\n",
    "    StructField(\"scheduled_elapsed_time\",   IntegerType(), True), \\\n",
    "    StructField(\"air_time\",                 IntegerType(), True), \\\n",
    "    StructField(\"arrival_delay\",            IntegerType(), True), \\\n",
    "    StructField(\"departure_delay\",          IntegerType(), True), \\\n",
    "    StructField(\"src_airport\",              StringType(),  True), \\\n",
    "    StructField(\"dest_airport\",             StringType(),  True), \\\n",
    "    StructField(\"distance\",                 IntegerType(), True), \\\n",
    "    StructField(\"taxi_in_time\",             IntegerType(), True), \\\n",
    "    StructField(\"taxi_out_time\",            IntegerType(), True), \\\n",
    "    StructField(\"cancelled\",                StringType(),  True), \\\n",
    "    StructField(\"cancellation_code\",        StringType(),  True), \\\n",
    "    StructField(\"diverted\",                 StringType(),  True), \\\n",
    "    StructField(\"carrier_delay\",            IntegerType(), True), \\\n",
    "    StructField(\"weather_delay\",            IntegerType(), True), \\\n",
    "    StructField(\"nas_delay\",                IntegerType(), True), \\\n",
    "    StructField(\"security_delay\",           IntegerType(), True), \\\n",
    "    StructField(\"late_aircraft_delay\",      IntegerType(), True)\\\n",
    "])"
   ]
  },
  {
   "cell_type": "markdown",
   "metadata": {},
   "source": [
    "To \"convert\" an RDD to DataFrame, each element in the RDD must be a list of column values that match the data schema."
   ]
  },
  {
   "cell_type": "code",
   "execution_count": 124,
   "metadata": {
    "collapsed": false
   },
   "outputs": [],
   "source": [
    "# convert each line into a tuple of features (columns)\n",
    "cleaned_data_to_columns = cleaned_data.map(lambda l: l.split(\",\"))\\\n",
    "    .map(lambda cols: \n",
    "         (\n",
    "            int(cols[0])  if cols[0] else None,\n",
    "            int(cols[1])  if cols[1] else None,\n",
    "            int(cols[2])  if cols[2] else None,\n",
    "            int(cols[3])  if cols[3] else None,\n",
    "            int(cols[4])  if cols[4] else None,\n",
    "            int(cols[5])  if cols[5] else None,\n",
    "            int(cols[6])  if cols[6] else None,\n",
    "            int(cols[7])  if cols[7] else None,\n",
    "            cols[8]       if cols[8] else None,\n",
    "            cols[9]       if cols[9] else None,\n",
    "            cols[10]      if cols[10] else None,\n",
    "            int(cols[11]) if cols[11] else None,\n",
    "            int(cols[12]) if cols[12] else None,\n",
    "            int(cols[13]) if cols[13] else None,\n",
    "            int(cols[14]) if cols[14] else None,\n",
    "            int(cols[15]) if cols[15] else None,\n",
    "            cols[16]      if cols[16] else None,\n",
    "            cols[17]      if cols[17] else None,\n",
    "            int(cols[18]) if cols[18] else None,\n",
    "            int(cols[19]) if cols[19] else None,\n",
    "            int(cols[20]) if cols[20] else None,\n",
    "            cols[21]      if cols[21] else None,\n",
    "            cols[22]      if cols[22] else None,\n",
    "            cols[23]      if cols[23] else None,\n",
    "            int(cols[24]) if cols[24] else None,\n",
    "            int(cols[25]) if cols[25] else None,\n",
    "            int(cols[26]) if cols[26] else None,\n",
    "            int(cols[27]) if cols[27] else None,\n",
    "            int(cols[28]) if cols[28] else None\n",
    "         ))"
   ]
  },
  {
   "cell_type": "markdown",
   "metadata": {},
   "source": [
    "To train our model, we use the following features: `year`, `month`, `day_of_month`, `day_of_week`, `scheduled_departure_time`, `scheduled_arrival_time`, `arrival_delay`, `distance`, `src_airport`, `dest_airport`."
   ]
  },
  {
   "cell_type": "markdown",
   "metadata": {},
   "source": [
    "### Question 2\n",
    "\n",
    "<div class=\"alert alert-info\">\n",
    "From RDD `cleaned_data_to_columns` and the schema `airline_data_schema` which are declared before, create a new DataFrame **`df`**.  \n",
    "\n",
    "Note that, we should only select the necessary features defined above:  \n",
    "\n",
    "[ `year`, `month`, `day_of_month`, `day_of_week`, `scheduled_departure_time`, `scheduled_arrival_time`, `arrival_delay`, `distance`, `src_airport`, `dest_airport`].  \n",
    "\n",
    "Finally, the data should be cached.\n",
    "</div>"
   ]
  },
  {
   "cell_type": "code",
   "execution_count": 125,
   "metadata": {
    "collapsed": true
   },
   "outputs": [],
   "source": [
    "# create dataframe df\n",
    "df = (sqlContext.createDataFrame(cleaned_data_to_columns, airline_data_schema)\n",
    "        .select(\"year\", \"month\", \"day_of_month\", \"day_of_week\", \"scheduled_departure_time\",\\\n",
    "                \"scheduled_arrival_time\", \"arrival_time\",\"arrival_delay\", \"distance\", \"carrier\", \"src_airport\", \"dest_airport\")\n",
    "        .cache()\n",
    "    )"
   ]
  },
  {
   "cell_type": "markdown",
   "metadata": {
    "collapsed": true
   },
   "source": [
    "## 3.4 Descriptive statistics\n",
    "Next, we will go over a series of simple queries on our data, to explore it and compute statistics. These queries directly map to the questions you need to answer. \n",
    "\n",
    "**NOTE:** finding the right question to ask is difficult! Don't be afraid to complement the questions below, with your own questions that, in your opinion, are valuable ways to inspect data. This can give you extra points!\n",
    "\n",
    "- Basic queries:\n",
    "  - How many unique origin airports?\n",
    "  - How many unique destination airports?\n",
    "  - How many carriers?\n",
    "  - How many flights that have a scheduled departure time later than 18h00?\n",
    "  \n",
    "- Statistic on flight volume: this kind of statistics are helpful to reason about delays. Indeed, it is plausible to assume that \"*the more flights in an airport, the higher the probability of delay*\".\n",
    "  - How many flights in each month of the year?\n",
    "  - Is there any relationship between the number of flights and the days of week?\n",
    "  - How many flights in different days of months and in different hours of days?\n",
    "  - Which are the top 20 busiest airports (this depends on inbound and outbound traffic)?\n",
    "  - Which are the top 20 busiest carriers?\n",
    "  \n",
    "- Statistic on the fraction of delayed flights\n",
    "  - What is the percentage of delayed flights (over total flights) for different hours of the day?\n",
    "  - Which hours of the day are characterized by the longest flight delay?\n",
    "  - What are the fluctuation of the percentage of delayed flights over different time granularities?\n",
    "  - What is the percentage of delayed flights which depart from one of the top 20 busiest airports?\n",
    "  - What is the percentage of delayed flights which belong to one of the top 20 busiest carriers?"
   ]
  },
  {
   "cell_type": "markdown",
   "metadata": {},
   "source": [
    "### Question 3: Basic queries\n",
    "\n",
    "#### Question 3.1 \n",
    "<div class=\"alert alert-info\">\n",
    "How many origin airports? How many destination airports?\n",
    "</div>"
   ]
  },
  {
   "cell_type": "code",
   "execution_count": 126,
   "metadata": {
    "collapsed": false
   },
   "outputs": [
    {
     "name": "stdout",
     "output_type": "stream",
     "text": [
      "number of origin airports\t: 224\n",
      "number of destination airports\t: 225\n"
     ]
    }
   ],
   "source": [
    "# the first .count(), counts inside the group, the second accounts the number of groups\n",
    "num_src_airport = df.groupBy(\"src_airport\").count().count()\n",
    "num_dest_airport = df.groupBy(\"dest_airport\").count().count()\n",
    "print(\"number of origin airports\\t:\", num_src_airport)\n",
    "print(\"number of destination airports\\t:\", num_dest_airport)"
   ]
  },
  {
   "cell_type": "markdown",
   "metadata": {},
   "source": [
    "<div class=\"alert alert-success\">\n",
    "Number of origin airports and destination airports differ. It’s strange. When we look more closely at the data, we find that not all airports have both inbound and outbound flights so src_airport dataset and dest_airport dataset are composed by different items. More specifically, <b>SPN</b> is just an outbound airport, <b>BFI</b> and <b>GUM</b> are just inbound airports. Searching for more details about this strange pattern we discovered that:\n",
    "<ul>\n",
    "<li><b>SPN</b> and <b>GUM</b> are the two main airports of the United States Commonwealth Northern Mariana Islands in the North Western Pacific ocean, the first in the Sapian island and the second in the Guam islands.\n",
    "<li>Actually, <b>SPN</b> and <b>GUM</b> are present in the dataset only with 7 seasonal charters SPN→GUM, performed by United Airlines, throughout the year 1994. Checking more recent years, we discovered that since 2014 the flight is performed 4 times a day by United Airlines but is not considered anymore in the dataset of the US territory flights from 1997 onward.\n",
    "<li><b>BFI</b>, instead, is used just for general aviation and cargo flights. Both in the 1994 dataset and nowadays, Boeing Field airport is the destination airport for a seasonal charter from Anchorage (Alaska) so it’s present just once.\n",
    "</ul>\n",
    "</div>"
   ]
  },
  {
   "cell_type": "markdown",
   "metadata": {},
   "source": [
    "#### Question 3.2\n",
    "<div class=\"alert alert-info\">\n",
    "How many carriers?\n",
    "</div>"
   ]
  },
  {
   "cell_type": "code",
   "execution_count": 127,
   "metadata": {
    "collapsed": false
   },
   "outputs": [
    {
     "name": "stdout",
     "output_type": "stream",
     "text": [
      "the number distinct carriers: 10\n"
     ]
    }
   ],
   "source": [
    "num_carrier = df.groupBy(\"carrier\").count().count()\n",
    "print(\"the number distinct carriers:\", num_carrier)"
   ]
  },
  {
   "cell_type": "markdown",
   "metadata": {},
   "source": [
    "#### Question 3.3\n",
    "\n",
    "<div class=\"alert alert-info\">\n",
    "How many night flights (that is, flights departing later than 6pm)?\n",
    "</div>"
   ]
  },
  {
   "cell_type": "code",
   "execution_count": 128,
   "metadata": {
    "collapsed": false
   },
   "outputs": [
    {
     "name": "stdout",
     "output_type": "stream",
     "text": [
      "the number of night flights: 1121918\n"
     ]
    }
   ],
   "source": [
    "night_flights = df.filter(\"scheduled_departure_time > 1800 OR scheduled_departure_time < 0600\").count()\n",
    "print(\"the number of night flights:\", night_flights)"
   ]
  },
  {
   "cell_type": "markdown",
   "metadata": {},
   "source": [
    "<div class=\"alert alert-success\">\n",
    "As a filter expression, we decided to put both flights departing later than 6pm and the ones departing before 6am since with only the first condition we would have found only flights departing between 18 and midnight without considering the ones between midnight and 6 in the morning.\n",
    "</div>"
   ]
  },
  {
   "cell_type": "markdown",
   "metadata": {},
   "source": [
    "### Question 4: Flight volume statistics\n",
    "\n",
    "#### Question 4.1: \n",
    "\n",
    "<div class=\"alert alert-info\">\n",
    "How many flights in each month of the year? Plot the changes over months by a line chart and comment the figure.\n",
    "From the result, we can learn the dynamics of flight volume over months. For example, if we only consider flights in 1994 (to start, it's always better to focus on smaller amount of data), we can discuss about which months are most likely to have flights experiencing delays.\n",
    "</div>\n"
   ]
  },
  {
   "cell_type": "code",
   "execution_count": 129,
   "metadata": {
    "collapsed": false
   },
   "outputs": [
    {
     "name": "stdout",
     "output_type": "stream",
     "text": [
      "+----+-----+------+\n",
      "|year|month| count|\n",
      "+----+-----+------+\n",
      "|1994|    1|423861|\n",
      "|1994|    2|386954|\n",
      "|1994|    3|435516|\n",
      "|1994|    4|420995|\n",
      "|1994|    5|436432|\n",
      "|1994|    6|426490|\n",
      "|1994|    7|443736|\n",
      "|1994|    8|451086|\n",
      "|1994|    9|430861|\n",
      "|1994|   10|449369|\n",
      "|1994|   11|428227|\n",
      "|1994|   12|446521|\n",
      "+----+-----+------+\n",
      "\n"
     ]
    },
    {
     "data": {
      "image/png": "[encoded data removed]",
      "text/plain": [
       "<matplotlib.figure.Figure at 0x7fc2ee802eb8>"
      ]
     },
     "metadata": {},
     "output_type": "display_data"
    }
   ],
   "source": [
    "months = (\"January\", \"February\", \"March\", \"April\", \"May\", \"June\", \"July\",\\\n",
    "         \"August\", \"September\", \"October\", \"November\", \"December\")\n",
    "\n",
    "statistic_month = df.groupby(\"year\",\"month\").count().sort(df.month)\n",
    "statistic_month.show()\n",
    "\n",
    "\n",
    "\n",
    "pdf = pd.DataFrame(data=statistic_month.collect())\n",
    "\n",
    "plt.figure(figsize=(20,5))\n",
    "plt.xlabel(\"Months\")\n",
    "plt.ylabel(\"Number of flights\")\n",
    "plt.xticks(pdf[1], months, rotation=45)\n",
    "plt.title('Figure 1: The change of number flights over months')\n",
    "plt.grid(True,which=\"both\",ls=\"-\")\n",
    "plt.plot(pdf[1], pdf[2])\n",
    "plt.margins(0.05, 0)\n",
    "plt.show()"
   ]
  },
  {
   "cell_type": "markdown",
   "metadata": {},
   "source": [
    "<div class=\"alert alert-success\">\n",
    "Before plotting the data we were expecting a similiar trend. More specifically, we were expecting the highest pick in July - August and the lowest in February.\n",
    "<br><br>\n",
    "<b><i>Why?</i></b>\n",
    "<br>\n",
    "<ul>\n",
    "<li>Regarding the peaks, July and August are the holiday months, where kids are home from school and usually families spend time together. December is also another peak since it includes the Christmas holidays.\n",
    "<li>Regarding February, it is known that for every company, the least selling months are the one immediately after the Christmas quarter (from Black Friday till New Year) since families, after spending a lot of money for presents and holidays, tend to limit expenses and travels in the next few months, February specifically. This trend, as expected, can also be seen in the flight plots.\n",
    "</ul>\n",
    "</div>"
   ]
  },
  {
   "cell_type": "markdown",
   "metadata": {},
   "source": [
    "#### Question 4.2: \n",
    "<div class=\"alert alert-info\">\n",
    "Is there any relationship between the number of flights and the days of the week?  \n",
    "\n",
    "Plot a bar chart and interpret the figure.  \n",
    "\n",
    "By answering this question, we could learn about the importance of the weekend/weekday feature for our predictive task.\n",
    "</div>"
   ]
  },
  {
   "cell_type": "code",
   "execution_count": 130,
   "metadata": {
    "collapsed": false
   },
   "outputs": [
    {
     "name": "stdout",
     "output_type": "stream",
     "text": [
      "+----+-----------+------+\n",
      "|year|day_of_week| count|\n",
      "+----+-----------+------+\n",
      "|1994|          1|754636|\n",
      "|1994|          2|756532|\n",
      "|1994|          3|756864|\n",
      "|1994|          4|751537|\n",
      "|1994|          5|751531|\n",
      "|1994|          6|695245|\n",
      "|1994|          7|713703|\n",
      "+----+-----------+------+\n",
      "\n"
     ]
    },
    {
     "data": {
      "image/png": "[encoded data removed]",
      "text/plain": [
       "<matplotlib.figure.Figure at 0x7fc2dbc52be0>"
      ]
     },
     "metadata": {},
     "output_type": "display_data"
    }
   ],
   "source": [
    "statistic_day_of_week = df.groupby(\"year\",\"day_of_week\").count().sort(df.day_of_week)\n",
    "statistic_day_of_week.show()\n",
    "\n",
    "pdfDOW = pd.DataFrame(data=statistic_day_of_week.collect())\n",
    "plt.figure(figsize=(20,5))\n",
    "plt.xlabel(\"Days of week\")\n",
    "plt.ylabel(\"Number of flights\")\n",
    "plt.title('Figure 2: The change of number flights over days of week')\n",
    "plt.grid(True,which=\"both\",ls=\"-\")\n",
    "map_int_into_day = { 1:\"Mon\", 2:\"Tue\", 3:\"Wed\", 4:\"Thu\", 5:\"Fri\", 6:\"Sat\", 7:\"Sun\" }\n",
    "day_of_week_label = pdfDOW[1].map(lambda i: map_int_into_day[i])\n",
    "\n",
    "# plot bar chart\n",
    "plt.bar(pdfDOW[1], pdfDOW[2], width=0.4, align='center')\n",
    "plt.margins(0.05, 0)\n",
    "plt.ylim((0, 770000))\n",
    "plt.xticks(pdfDOW[1], day_of_week_label, rotation=45)\n",
    "plt.show()"
   ]
  },
  {
   "cell_type": "markdown",
   "metadata": {},
   "source": [
    "<div class=\"alert alert-success\">\n",
    "There are some some interesting comments that can be made about these statistics:\n",
    "<ul>\n",
    "<li>During working days, flights are much more frequent;\n",
    "<li>During the weekends, Saturday especially, there are less flights.\n",
    "</ul>\n",
    "<br>\n",
    "<b><i>How can we explain this?</i></b>\n",
    "<ul>\n",
    "<li>As stated by the name, working days flights include all those people that have to reach different cities for work. We have to keep in mind that the dataset is regarding the United States, where the air transport is the most used, in contrast to trains and cars that are less used since distances are much larger.\n",
    "<li>Considering students and holiday flights, people tend to maximize their time away from home during their weekend-long holiday departing on Thursday/Friday and coming back Sunday night or Monday. This is why Saturday is the least trafficated day.\n",
    "</ul>\n",
    "</div>"
   ]
  },
  {
   "cell_type": "markdown",
   "metadata": {},
   "source": [
    "#### Question 4.3\n",
    "<div class=\"alert alert-info\">\n",
    "How many flights in different days of months and in different hours of days?  \n",
    "\n",
    "Plot  bar charts, and interpret your figures.\n",
    "</div>"
   ]
  },
  {
   "cell_type": "code",
   "execution_count": 131,
   "metadata": {
    "collapsed": false
   },
   "outputs": [
    {
     "name": "stdout",
     "output_type": "stream",
     "text": [
      "+----+------------+------+\n",
      "|year|day_of_month| count|\n",
      "+----+------------+------+\n",
      "|1994|           1|169674|\n",
      "|1994|           2|169829|\n",
      "|1994|           3|168678|\n",
      "|1994|           4|169399|\n",
      "|1994|           5|168423|\n",
      "|1994|           6|170650|\n",
      "|1994|           7|172210|\n",
      "|1994|           8|170674|\n",
      "|1994|           9|170077|\n",
      "|1994|          10|170252|\n",
      "|1994|          11|172362|\n",
      "|1994|          12|169542|\n",
      "|1994|          13|171230|\n",
      "|1994|          14|172081|\n",
      "|1994|          15|170737|\n",
      "|1994|          16|169985|\n",
      "|1994|          17|170132|\n",
      "|1994|          18|171868|\n",
      "|1994|          19|169483|\n",
      "|1994|          20|171142|\n",
      "|1994|          21|172283|\n",
      "|1994|          22|171305|\n",
      "|1994|          23|170695|\n",
      "|1994|          24|166379|\n",
      "|1994|          25|167435|\n",
      "|1994|          26|168767|\n",
      "|1994|          27|171222|\n",
      "|1994|          28|171760|\n",
      "|1994|          29|155695|\n",
      "|1994|          30|155915|\n",
      "|1994|          31|100164|\n",
      "+----+------------+------+\n",
      "\n"
     ]
    },
    {
     "data": {
      "image/png": "[encoded data removed]",
      "text/plain": [
       "<matplotlib.figure.Figure at 0x7fc2dc320e48>"
      ]
     },
     "metadata": {},
     "output_type": "display_data"
    }
   ],
   "source": [
    "#dom = day of month\n",
    "statistic_day_of_month = df.groupby(\"year\",  \"day_of_month\").count().sort(df.day_of_month)\n",
    "statistic_day_of_month.show(50)\n",
    "pdfDOM = pd.DataFrame(statistic_day_of_month.collect())\n",
    "\n",
    "# plot bar chart\n",
    "plt.figure(figsize=(20, 5))\n",
    "plt.xlabel(\"Days of month\")\n",
    "plt.ylabel(\"Number of flights\")\n",
    "plt.title('Figure 3: The change of number in different days of month')\n",
    "plt.grid(True,which=\"both\",ls=\"-\")\n",
    "\n",
    "# plot bar chart\n",
    "plt.bar(pdfDOM[1], pdfDOM[2], width=0.4, align='center')\n",
    "plt.margins(0.05, 0)\n",
    "plt.ylim((0, 175000))\n",
    "plt.xticks(pdfDOM[1])\n",
    "plt.show()"
   ]
  },
  {
   "cell_type": "markdown",
   "metadata": {},
   "source": [
    "<div class=\"alert alert-success\">\n",
    "There shouldn't be any relevant information in number of flights per day of month. It's not difficult to imagine that on the 31st day of a month there are less flights than other days because not every month has 31 days.\n",
    "</div>"
   ]
  },
  {
   "cell_type": "code",
   "execution_count": 132,
   "metadata": {
    "collapsed": true
   },
   "outputs": [],
   "source": [
    "def get_hour(row):\n",
    "    #putting 00:mm and 24:mm in the same bin\n",
    "    return(row[0],int((row[1]/100)%24))\n",
    "\n",
    "statistic_hour_of_day = df.select(\"year\", \"scheduled_departure_time\")\\\n",
    "                        .rdd.map(get_hour).toDF(('year', 'hour'))\\\n",
    "                        .groupBy(\"year\",\"hour\").count()\n",
    "\n",
    "pdfHOD = pd.DataFrame(statistic_hour_of_day.collect())"
   ]
  },
  {
   "cell_type": "code",
   "execution_count": 133,
   "metadata": {
    "collapsed": false
   },
   "outputs": [
    {
     "data": {
      "image/png": "[encoded data removed]",
      "text/plain": [
       "<matplotlib.figure.Figure at 0x7fc2db814828>"
      ]
     },
     "metadata": {},
     "output_type": "display_data"
    }
   ],
   "source": [
    "# plot bar chart\n",
    "plt.figure(figsize=(15, 5))\n",
    "plt.xlabel(\"Hours of day\")\n",
    "plt.ylabel(\"Number of flights\")\n",
    "plt.title('Figure 4: The change of number in different hours of day')\n",
    "plt.grid(True,which=\"both\",ls=\"-\")\n",
    "\n",
    "# plot bar chart\n",
    "plt.bar(pdfHOD[1], pdfHOD[2], width=0.4, align='center')\n",
    "plt.margins(0.05, 0)\n",
    "plt.ylim((0, 405000))\n",
    "plt.xticks(pdfHOD[1])\n",
    "plt.show()"
   ]
  },
  {
   "cell_type": "markdown",
   "metadata": {},
   "source": [
    "<div class=\"alert alert-success\">\n",
    "People tend to prefer <i>normal</i> hours for flights, and so to not go to the airport during sleep hours. It would be interesting to see which are the most used airports and most trafficated routes at certain times of the day. Maybe, but that is to be confirmed with insights on data, there are differences between West and East coast flights\n",
    "</div>"
   ]
  },
  {
   "cell_type": "markdown",
   "metadata": {},
   "source": [
    "#### Question 4.4\n",
    "<div class=\"alert alert-info\">\n",
    "Which are the **top 20** busiest airports: compute this in terms of aggregate inbound and outbound number of flights?\n",
    "</div>"
   ]
  },
  {
   "cell_type": "code",
   "execution_count": 134,
   "metadata": {
    "collapsed": true
   },
   "outputs": [],
   "source": [
    "# consider outbound flights\n",
    "stat_src = (df.groupBy(df.src_airport).agg(func.count('*').alias('outbound_flights')))\n",
    "    \n",
    "# consider inbound flights\n",
    "stat_dest = (df.groupBy(df.dest_airport).agg(func.count('*').alias('inbound_flights')))"
   ]
  },
  {
   "cell_type": "code",
   "execution_count": 135,
   "metadata": {
    "collapsed": false
   },
   "outputs": [],
   "source": [
    "#stat_src.show()\n",
    "#stat_dest.show()"
   ]
  },
  {
   "cell_type": "code",
   "execution_count": 136,
   "metadata": {
    "collapsed": true
   },
   "outputs": [],
   "source": [
    "# full join the statistic of inbound flights and outbound flights\n",
    "stat_airports = stat_src.join(stat_dest, stat_src.src_airport==stat_dest.dest_airport, how='full')"
   ]
  },
  {
   "cell_type": "code",
   "execution_count": 137,
   "metadata": {
    "collapsed": false
   },
   "outputs": [
    {
     "name": "stdout",
     "output_type": "stream",
     "text": [
      "+-------+------+\n",
      "|Airport| Total|\n",
      "+-------+------+\n",
      "|    ORD|561461|\n",
      "|    DFW|516523|\n",
      "|    ATL|443074|\n",
      "|    LAX|306453|\n",
      "|    STL|304409|\n",
      "|    DEN|285526|\n",
      "|    PHX|280560|\n",
      "|    DTW|276272|\n",
      "|    PIT|262939|\n",
      "|    CLT|259712|\n",
      "|    MSP|247980|\n",
      "|    SFO|235478|\n",
      "|    EWR|233991|\n",
      "|    IAH|208591|\n",
      "|    LGA|203362|\n",
      "|    BOS|199696|\n",
      "|    LAS|189920|\n",
      "|    PHL|186897|\n",
      "|    DCA|176115|\n",
      "|    MCO|153720|\n",
      "+-------+------+\n",
      "only showing top 20 rows\n",
      "\n"
     ]
    }
   ],
   "source": [
    "# TOP 20 BUSIEST AIRPORTS\n",
    "stat_airport_traffic = (stat_airports\n",
    "                            # define the new column `total` \n",
    "                            # which has values are equal to the sum of `count1` and `count2`\n",
    "                            .withColumn('total', stat_airports['outbound_flights'] + stat_airports['inbound_flights'])\n",
    "                            # select top airpoint in termns of number of flights\n",
    "                            .select(stat_airports.src_airport.alias('Airport'), 'Total')\\\n",
    "                            .orderBy(desc('Total'))\n",
    "                        )\n",
    "stat_airport_traffic.show(20)"
   ]
  },
  {
   "cell_type": "markdown",
   "metadata": {},
   "source": [
    "#### Question 4.5\n",
    "<div class=\"alert alert-info\">\n",
    "Which are the **top 20** busiest carriers: compute this in terms of number of flights? \n",
    "</div>\n"
   ]
  },
  {
   "cell_type": "code",
   "execution_count": 138,
   "metadata": {
    "collapsed": false
   },
   "outputs": [
    {
     "name": "stdout",
     "output_type": "stream",
     "text": [
      "+-------+------+\n",
      "|carrier| count|\n",
      "+-------+------+\n",
      "|     DL|874526|\n",
      "|     US|857906|\n",
      "|     AA|722277|\n",
      "|     UA|638750|\n",
      "|     WN|565426|\n",
      "|     CO|484834|\n",
      "|     NW|482798|\n",
      "|     TW|258205|\n",
      "|     HP|177851|\n",
      "|     AS|117475|\n",
      "+-------+------+\n",
      "\n"
     ]
    }
   ],
   "source": [
    "stat_carrier = (df\n",
    "                .groupBy(\"carrier\")\n",
    "                .agg(func.count('*').alias('count'))\n",
    "                .orderBy(desc('count'))\n",
    "                )\n",
    "\n",
    "stat_carrier.show(20)"
   ]
  },
  {
   "cell_type": "markdown",
   "metadata": {},
   "source": [
    "### Question 5 \n",
    "Statistics on the percentage of delayed flights\n",
    "\n",
    "#### Question 5.1\n",
    "<div class=\"alert alert-info\">\n",
    "What is the percentage of delayed flights for different hours of the day?  \n",
    "\n",
    "Plot a bar chart and interpret the figure.  \n",
    "\n",
    "\n",
    "<div class=\"label label-success\">Remember</div> a flight is considered as delayed if it's actual arrival time is more than 15 minutes late than the scheduled arrival time.\n",
    "</div>"
   ]
  },
  {
   "cell_type": "code",
   "execution_count": 139,
   "metadata": {
    "collapsed": true
   },
   "outputs": [],
   "source": [
    "# create new column that marks whether the flights are delay\n",
    "df_with_delay = df.withColumn('is_delay', when(df.arrival_time - df.scheduled_arrival_time >= 15, 1).otherwise(0))"
   ]
  },
  {
   "cell_type": "code",
   "execution_count": 140,
   "metadata": {
    "collapsed": false
   },
   "outputs": [
    {
     "name": "stdout",
     "output_type": "stream",
     "text": [
      "+----+----+--------------------+\n",
      "|year|hour|         delay_ratio|\n",
      "+----+----+--------------------+\n",
      "|1994|13.0| 0.19707376157901257|\n",
      "|1994|19.0|  0.2573748890741388|\n",
      "|1994|15.0| 0.22292034282833376|\n",
      "|1994|17.0|  0.2558112502669431|\n",
      "|1994| 1.0|  0.1953130721347492|\n",
      "|1994|10.0|  0.1655481946240578|\n",
      "|1994|12.0| 0.18515059145949272|\n",
      "|1994| 0.0| 0.21857108778625955|\n",
      "|1994| 3.0| 0.05060422960725076|\n",
      "|1994| 9.0| 0.17105296622742444|\n",
      "|1994| 6.0| 0.09730253549834167|\n",
      "|1994| 4.0|0.020905923344947737|\n",
      "|1994| 2.0|  0.1257108650104759|\n",
      "|1994|11.0|  0.1814461876085849|\n",
      "|1994|16.0| 0.24391788007596998|\n",
      "|1994|23.0| 0.18450056609441068|\n",
      "|1994| 7.0| 0.13646693337728563|\n",
      "|1994| 8.0| 0.16137670707541366|\n",
      "|1994|20.0| 0.22567611396149442|\n",
      "|1994|22.0|  0.1865523658439855|\n",
      "|1994|21.0| 0.20973581716217604|\n",
      "|1994|14.0| 0.20102840269871247|\n",
      "|1994|18.0| 0.24965832147492534|\n",
      "|1994| 5.0| 0.09004687670336858|\n",
      "+----+----+--------------------+\n",
      "\n"
     ]
    }
   ],
   "source": [
    "# create a new column that indicates the scheduled departure time in hour \n",
    "# (ignore the part of minute)\n",
    "delay_per_hour = df_with_delay.withColumn('hour', round(df.scheduled_departure_time/100, 0)%24)\n",
    "# group by year and hour\n",
    "statistic_delay_hour = delay_per_hour.groupBy(delay_per_hour.year, delay_per_hour.hour)\n",
    "# calculate the delay ratio and create a new column\n",
    "delay_ratio_per_hour = statistic_delay_hour.agg(\n",
    "    (func.sum('is_delay')/func.count('*')).alias('delay_ratio')\n",
    ")\n",
    "delay_ratio_per_hour.show(24)"
   ]
  },
  {
   "cell_type": "code",
   "execution_count": 141,
   "metadata": {
    "collapsed": false
   },
   "outputs": [
    {
     "name": "stdout",
     "output_type": "stream",
     "text": [
      "+----+--------------------+\n",
      "|hour|         delay_ratio|\n",
      "+----+--------------------+\n",
      "| 0.0| 0.21857108778625955|\n",
      "| 1.0|  0.1953130721347492|\n",
      "| 2.0|  0.1257108650104759|\n",
      "| 3.0| 0.05060422960725076|\n",
      "| 4.0|0.020905923344947737|\n",
      "| 5.0| 0.09004687670336858|\n",
      "| 6.0| 0.09730253549834167|\n",
      "| 7.0| 0.13646693337728563|\n",
      "| 8.0| 0.16137670707541366|\n",
      "| 9.0| 0.17105296622742444|\n",
      "|10.0|  0.1655481946240578|\n",
      "|11.0|  0.1814461876085849|\n",
      "|12.0| 0.18515059145949272|\n",
      "|13.0| 0.19707376157901257|\n",
      "|14.0| 0.20102840269871247|\n",
      "|15.0| 0.22292034282833376|\n",
      "|16.0| 0.24391788007596998|\n",
      "|17.0|  0.2558112502669431|\n",
      "|18.0| 0.24965832147492534|\n",
      "|19.0|  0.2573748890741388|\n",
      "|20.0| 0.22567611396149442|\n",
      "|21.0| 0.20973581716217604|\n",
      "|22.0|  0.1865523658439855|\n",
      "|23.0| 0.18450056609441068|\n",
      "+----+--------------------+\n",
      "\n"
     ]
    }
   ],
   "source": [
    "# order the result by hour\n",
    "delay_ratio_per_hour = (\n",
    "            delay_ratio_per_hour\n",
    "                .orderBy(\"hour\")\n",
    "                .select(\"hour\", \"delay_ratio\")\n",
    "    )\n",
    "\n",
    "delay_ratio_per_hour.show(30)\n",
    "pdf_delay_ratio_per_hour = pd.DataFrame(delay_ratio_per_hour.collect())"
   ]
  },
  {
   "cell_type": "code",
   "execution_count": 142,
   "metadata": {
    "collapsed": false
   },
   "outputs": [
    {
     "data": {
      "image/png": "[encoded data removed]",
      "text/plain": [
       "<matplotlib.figure.Figure at 0x7fc2db7a2c88>"
      ]
     },
     "metadata": {},
     "output_type": "display_data"
    }
   ],
   "source": [
    "# plot a bar chart\n",
    "\n",
    "plt.figure(figsize=(20, 5))\n",
    "plt.xlabel(\"Hours of day\")\n",
    "plt.ylabel(\"Ratio\")\n",
    "plt.grid(True,which=\"both\",ls=\"-\")\n",
    "plt.bar(pdf_delay_ratio_per_hour[0], pdf_delay_ratio_per_hour[1], width=0.4, align='center')\n",
    "plt.margins(0.05, 0)\n",
    "plt.ylim((0,0.27))\n",
    "plt.xticks(pdf_delay_ratio_per_hour[0])\n",
    "plt.title('Figure 5: The ratio of delay over hours in day')\n",
    "plt.show()"
   ]
  },
  {
   "cell_type": "markdown",
   "metadata": {},
   "source": [
    "<div class=\"alert alert-warning\"> PUT YOUR COMMENT HERE </div>"
   ]
  },
  {
   "cell_type": "markdown",
   "metadata": {},
   "source": [
    "#### Question 5.2\n",
    "<div class=\"alert alert-info\">\n",
    "You will realize that saying *\"at 4 A.M. there is a very low chance of a flight being delayed\"* is not giving you a full picture of the situation. Indeed, it might be true that there is very little probability for an early flight to be delayed, but if it does, the delay might be huge, like 6 hours!  \n",
    "\n",
    "<ul></ul>\n",
    "\n",
    "Then, the question is: **which hours of the day are characterized by the largest delay?**  \n",
    "\n",
    "Plot a Bar chart and explain it.  \n",
    "\n",
    "</div>"
   ]
  },
  {
   "cell_type": "code",
   "execution_count": 143,
   "metadata": {
    "collapsed": false
   },
   "outputs": [
    {
     "data": {
      "image/png": "[encoded data removed]",
      "text/plain": [
       "<matplotlib.figure.Figure at 0x7fc2dbb9d780>"
      ]
     },
     "metadata": {},
     "output_type": "display_data"
    }
   ],
   "source": [
    "mean_delay_per_hour = statistic_delay_hour.agg(\n",
    "    (func.mean('arrival_delay')).alias('mean_delay')\n",
    ")\n",
    "\n",
    "mean_delay_per_hour = (\n",
    "    mean_delay_per_hour\n",
    "        .orderBy('hour')\n",
    "        .select('hour', 'mean_delay')\n",
    "    )\n",
    "    \n",
    "pdf_mean_delay_per_hour = pd.DataFrame(mean_delay_per_hour.collect())\n",
    "\n",
    "plt.figure(figsize=(15, 7))\n",
    "plt.xlabel(\"Hours of day\")\n",
    "plt.ylabel(\"Average delay\")\n",
    "plt.grid(True,which=\"both\",ls=\"-\")\n",
    "plt.bar(pdf_mean_delay_per_hour[0], pdf_mean_delay_per_hour[1], width=0.4, align='center')\n",
    "plt.margins(0.05, 0.01)\n",
    "plt.xticks(pdf_mean_delay_per_hour[0])\n",
    "plt.title('Figure 6: The delay over hours in day')\n",
    "plt.show()"
   ]
  },
  {
   "cell_type": "markdown",
   "metadata": {},
   "source": [
    "<div class=\"alert alert-warning\"> PUT YOUR COMMENT HERE </div>"
   ]
  },
  {
   "cell_type": "markdown",
   "metadata": {},
   "source": [
    "With data of year 1994, the flight from 3AM to 4AM often depart earlier than in their schedule. The flights in the morning have less delay then in the afternoon and evening.\n",
    "\n",
    "So, an attentive student should notice here that we have somehow a problem with the definition of delay! Next, we will improve how to represent and visualize data to overcome this problem."
   ]
  },
  {
   "cell_type": "code",
   "execution_count": 144,
   "metadata": {
    "collapsed": false
   },
   "outputs": [
    {
     "data": {
      "image/png": "[encoded data removed]",
      "text/plain": [
       "<matplotlib.figure.Figure at 0x7fc2dbc45ef0>"
      ]
     },
     "metadata": {},
     "output_type": "display_data"
    }
   ],
   "source": [
    "#pdf2 = pd.DataFrame(data=mean_delay_per_hour.collect())\n",
    "plt.figure(figsize=(20,10))\n",
    "plt.margins(0.05,0)\n",
    "plt.ylim(0,0.3)\n",
    "plt.xlabel(\"Hours\")\n",
    "plt.ylabel(\"Ratio of delay\")\n",
    "plt.title('Figure 6: The radio of delay over hours in day')\n",
    "plt.grid(True,which=\"both\",ls=\"-\")\n",
    "bars = plt.bar(pdf_delay_ratio_per_hour[0], pdf_delay_ratio_per_hour[1], align='center', edgecolor = \"black\")\n",
    "for i in range(0, len(bars)):\n",
    "    color = 'red'\n",
    "    if pdf_mean_delay_per_hour[1][i] < 0:\n",
    "        color = 'lightgreen'\n",
    "    elif pdf_mean_delay_per_hour[1][i] < 2:\n",
    "        color = 'green'\n",
    "    elif pdf_mean_delay_per_hour[1][i] < 4:\n",
    "        color = 'yellow'\n",
    "    elif pdf_mean_delay_per_hour[1][i] < 8:\n",
    "        color = 'orange'\n",
    "\n",
    "    bars[i].set_color(color)\n",
    "        \n",
    "patch1 = mpatches.Patch(color='lightgreen', label='Depart earlier')\n",
    "patch2 = mpatches.Patch(color='green', label='delay < 2 minutes')\n",
    "patch3 = mpatches.Patch(color='yellow', label='delay < 4 minutes')\n",
    "patch4 = mpatches.Patch(color='orange', label='delay < 8 minutes')\n",
    "patch5 = mpatches.Patch(color='red', label='delay >= 8 minutes')\n",
    "\n",
    "plt.legend(handles=[patch1, patch2, patch3, patch4, patch5], bbox_to_anchor=(1.05, 1), loc=2, borderaxespad=0.)\n",
    "\n",
    "plt.show()"
   ]
  },
  {
   "cell_type": "markdown",
   "metadata": {},
   "source": [
    "In the new figure (Figure 6), we have more information in a single plot. The flights in 3AM to 4AM have very low probability of being delayed, and actually depart earlier than their schedule. In contrast, the flights in the 4PM to 8PM range have higher chances of being delayed: in more than 50% of the cases, the delay is 8 minutes or more.\n",
    "\n",
    "This example shows us that the way representing results are also important.\n"
   ]
  },
  {
   "cell_type": "markdown",
   "metadata": {},
   "source": [
    "#### Question 5.3\n",
    "<div class=\"alert alert-info\">\n",
    "Plot a bar chart to show the percentage of delayed flights over days in a month\n",
    "</div>"
   ]
  },
  {
   "cell_type": "code",
   "execution_count": 145,
   "metadata": {
    "collapsed": true
   },
   "outputs": [],
   "source": [
    "def color(bars, mean):\n",
    "    for i in range(0, len(bars)):\n",
    "        color = 'red'\n",
    "        if mean[1][i] < 0:\n",
    "            color = 'lightgreen'\n",
    "        elif mean[1][i] < 2:\n",
    "            color = 'green'\n",
    "        elif mean[1][i] < 4:\n",
    "            color = 'yellow'\n",
    "        elif mean[1][i] < 8:\n",
    "            color = 'orange'\n",
    "        \n",
    "        bars[i].set_color(color)\n",
    "patch1 = mpatches.Patch(color='lightgreen', label='Depart earlier')\n",
    "patch2 = mpatches.Patch(color='green', label='delay < 2 minutes')\n",
    "patch3 = mpatches.Patch(color='yellow', label='delay < 4 minutes')\n",
    "patch4 = mpatches.Patch(color='orange', label='delay < 8 minutes')\n",
    "patch5 = mpatches.Patch(color='red', label='delay >= 8 minutes')"
   ]
  },
  {
   "cell_type": "code",
   "execution_count": 146,
   "metadata": {
    "collapsed": true
   },
   "outputs": [],
   "source": [
    "# calculate the mean delay per day of the month\n",
    "mean_delay_per_dom = df_with_delay.groupBy('day_of_month')\\\n",
    "                    .agg(func.mean('arrival_delay').alias('mean_delay'))\\\n",
    "                    .orderBy('day_of_month')\n",
    "\n",
    "pdf_mean_delay_per_dom = pd.DataFrame(mean_delay_per_dom.collect())"
   ]
  },
  {
   "cell_type": "code",
   "execution_count": 118,
   "metadata": {
    "collapsed": false
   },
   "outputs": [
    {
     "ename": "TypeError",
     "evalue": "'str' object is not callable",
     "output_type": "error",
     "traceback": [
      "\u001b[0;31m---------------------------------------------------------------------------\u001b[0m",
      "\u001b[0;31mTypeError\u001b[0m                                 Traceback (most recent call last)",
      "\u001b[0;32m<ipython-input-118-c1dc4f56bbf7>\u001b[0m in \u001b[0;36m<module>\u001b[0;34m()\u001b[0m\n\u001b[1;32m     14\u001b[0m \u001b[0mplt\u001b[0m\u001b[0;34m.\u001b[0m\u001b[0mfigure\u001b[0m\u001b[0;34m(\u001b[0m\u001b[0mfigsize\u001b[0m\u001b[0;34m=\u001b[0m\u001b[0;34m(\u001b[0m\u001b[0;36m15\u001b[0m\u001b[0;34m,\u001b[0m \u001b[0;36m7\u001b[0m\u001b[0;34m)\u001b[0m\u001b[0;34m)\u001b[0m\u001b[0;34m\u001b[0m\u001b[0m\n\u001b[1;32m     15\u001b[0m \u001b[0mbars\u001b[0m \u001b[0;34m=\u001b[0m \u001b[0mplt\u001b[0m\u001b[0;34m.\u001b[0m\u001b[0mbar\u001b[0m\u001b[0;34m(\u001b[0m\u001b[0mpdf_day_of_month\u001b[0m\u001b[0;34m[\u001b[0m\u001b[0;36m0\u001b[0m\u001b[0;34m]\u001b[0m\u001b[0;34m,\u001b[0m \u001b[0mpdf_day_of_month\u001b[0m\u001b[0;34m[\u001b[0m\u001b[0;36m1\u001b[0m\u001b[0;34m]\u001b[0m\u001b[0;34m,\u001b[0m \u001b[0mwidth\u001b[0m\u001b[0;34m=\u001b[0m\u001b[0;36m0.4\u001b[0m\u001b[0;34m,\u001b[0m \u001b[0malign\u001b[0m\u001b[0;34m=\u001b[0m\u001b[0;34m'center'\u001b[0m\u001b[0;34m)\u001b[0m\u001b[0;34m\u001b[0m\u001b[0m\n\u001b[0;32m---> 16\u001b[0;31m \u001b[0mcolor\u001b[0m\u001b[0;34m(\u001b[0m\u001b[0mbars\u001b[0m\u001b[0;34m,\u001b[0m \u001b[0mpdf_mean_delay_per_dom\u001b[0m\u001b[0;34m)\u001b[0m\u001b[0;34m\u001b[0m\u001b[0m\n\u001b[0m\u001b[1;32m     17\u001b[0m \u001b[0mplt\u001b[0m\u001b[0;34m.\u001b[0m\u001b[0mlegend\u001b[0m\u001b[0;34m(\u001b[0m\u001b[0mhandles\u001b[0m\u001b[0;34m=\u001b[0m\u001b[0;34m[\u001b[0m\u001b[0mpatch1\u001b[0m\u001b[0;34m,\u001b[0m \u001b[0mpatch2\u001b[0m\u001b[0;34m,\u001b[0m \u001b[0mpatch3\u001b[0m\u001b[0;34m,\u001b[0m \u001b[0mpatch4\u001b[0m\u001b[0;34m,\u001b[0m \u001b[0mpatch5\u001b[0m\u001b[0;34m]\u001b[0m\u001b[0;34m,\u001b[0m \u001b[0mbbox_to_anchor\u001b[0m\u001b[0;34m=\u001b[0m\u001b[0;34m(\u001b[0m\u001b[0;36m1.05\u001b[0m\u001b[0;34m,\u001b[0m \u001b[0;36m1\u001b[0m\u001b[0;34m)\u001b[0m\u001b[0;34m,\u001b[0m \u001b[0mloc\u001b[0m\u001b[0;34m=\u001b[0m\u001b[0;36m2\u001b[0m\u001b[0;34m,\u001b[0m \u001b[0mborderaxespad\u001b[0m\u001b[0;34m=\u001b[0m\u001b[0;36m0.\u001b[0m\u001b[0;34m)\u001b[0m\u001b[0;34m\u001b[0m\u001b[0m\n\u001b[1;32m     18\u001b[0m \u001b[0mplt\u001b[0m\u001b[0;34m.\u001b[0m\u001b[0mxticks\u001b[0m\u001b[0;34m(\u001b[0m\u001b[0mpdf_day_of_month\u001b[0m\u001b[0;34m[\u001b[0m\u001b[0;36m0\u001b[0m\u001b[0;34m]\u001b[0m\u001b[0;34m)\u001b[0m\u001b[0;34m\u001b[0m\u001b[0m\n",
      "\u001b[0;31mTypeError\u001b[0m: 'str' object is not callable"
     ]
    },
    {
     "data": {
      "image/png": "[encoded data removed]",
      "text/plain": [
       "<matplotlib.figure.Figure at 0x7fc2dc276978>"
      ]
     },
     "metadata": {},
     "output_type": "display_data"
    }
   ],
   "source": [
    "####### The changes of delay ratio over days of month ########\n",
    "# calculate the delay ratio in each day of month\n",
    "\n",
    "statistic_day_of_month = (\n",
    "    df_with_delay\n",
    "        .groupBy('day_of_month')\n",
    "        .agg(func.sum('is_delay')/func.count('*')).alias('delay_ratio')\n",
    "        # order by day_of_month\n",
    "        .orderBy('day_of_month')\n",
    "    )\n",
    "    \n",
    "# collect data and plot\n",
    "pdf_day_of_month = pd.DataFrame(statistic_day_of_month.collect())\n",
    "plt.figure(figsize=(15, 7))\n",
    "bars = plt.bar(pdf_day_of_month[0], pdf_day_of_month[1], width=0.4, align='center')\n",
    "color(bars, pdf_mean_delay_per_dom)\n",
    "plt.legend(handles=[patch1, patch2, patch3, patch4, patch5], bbox_to_anchor=(1.05, 1), loc=2, borderaxespad=0.)\n",
    "plt.xticks(pdf_day_of_month[0])\n",
    "plt.xlabel(\"Day of the month\")\n",
    "plt.ylabel(\"Ratio\")\n",
    "plt.title('Figure 8: The ratio of delay over days of month')\n",
    "plt.show()"
   ]
  },
  {
   "cell_type": "markdown",
   "metadata": {},
   "source": [
    "<div class=\"alert alert-warning\"> PUT YOUR COMMENT HERE </div>"
   ]
  },
  {
   "cell_type": "markdown",
   "metadata": {},
   "source": [
    "#### Question 5.4\n",
    "<div class=\"alert alert-info\">\n",
    "Plot a bar chart to show the percentage of delayed flights over days in a week\n",
    "</div>"
   ]
  },
  {
   "cell_type": "code",
   "execution_count": 30,
   "metadata": {
    "collapsed": false
   },
   "outputs": [
    {
     "data": {
      "image/png": "[encoded data removed]",
      "text/plain": [
       "<matplotlib.figure.Figure at 0x7fc2dc5c6908>"
      ]
     },
     "metadata": {},
     "output_type": "display_data"
    }
   ],
   "source": [
    "# calculate the mean delay per day of the week\n",
    "mean_delay_per_dow = df_with_delay.groupBy('day_of_week')\\\n",
    "                    .agg(func.mean('arrival_delay').alias('mean_delay'))\\\n",
    "                    .orderBy('day_of_week')\n",
    "        \n",
    "pdf_mean_delay_per_dow = pd.DataFrame(mean_delay_per_dow.collect())\n",
    "\n",
    "####### The changes of delay ratio over days of week ########\n",
    "# calculate the delay ratio in each day of week\n",
    "statistic_day_of_week = (\n",
    "    df_with_delay\n",
    "        .groupBy('day_of_week')\n",
    "        .agg(func.sum('is_delay')/func.count('*')).alias('delay_ratio')\n",
    "        # order by day_of_week\n",
    "        .orderBy('day_of_week')\n",
    "    )\n",
    "    \n",
    "# collect data and plot\n",
    "pdf_day_of_week = pd.DataFrame(statistic_day_of_week.collect())\n",
    "map_int_into_day = { 1:\"Mon\", 2:\"Tue\", 3:\"Wed\", 4:\"Thu\", 5:\"Fri\", 6:\"Sat\", 7:\"Sun\" }\n",
    "day_of_week_label = pdf_day_of_week[0].map(lambda i: map_int_into_day[i])\n",
    "\n",
    "bars = plt.bar(pdf_day_of_week[0], pdf_day_of_week[1], width=0.4, align='center')\n",
    "color(bars, pdf_mean_delay_per_dow)\n",
    "    \n",
    "patch1 = mpatches.Patch(color='lightgreen', label='Depart earlier')\n",
    "patch2 = mpatches.Patch(color='green', label='delay < 2 minutes')\n",
    "patch3 = mpatches.Patch(color='yellow', label='delay < 4 minutes')\n",
    "patch4 = mpatches.Patch(color='orange', label='delay < 8 minutes')\n",
    "patch5 = mpatches.Patch(color='red', label='delay >= 8 minutes')\n",
    "plt.legend(handles=[patch1, patch2, patch3, patch4, patch5], bbox_to_anchor=(1.05, 1), loc=2, borderaxespad=0.)\n",
    "\n",
    "\n",
    "plt.title('Figure 9: The radio of delay over days of week')\n",
    "plt.xticks(pdf_day_of_week[0], day_of_week_label, rotation=45)\n",
    "plt.show()"
   ]
  },
  {
   "cell_type": "markdown",
   "metadata": {},
   "source": [
    "<div class=\"alert alert-warning\"> PUT YOUR COMMENT HERE </div>"
   ]
  },
  {
   "cell_type": "markdown",
   "metadata": {},
   "source": [
    "#### Question 5.5\n",
    "<div class=\"alert alert-info\">\n",
    "Plot a bar chart to show the percentage of delayed flights over months in a year\n",
    "</div>"
   ]
  },
  {
   "cell_type": "code",
   "execution_count": 152,
   "metadata": {
    "collapsed": false
   },
   "outputs": [
    {
     "data": {
      "image/png": "[encoded data removed]",
      "text/plain": [
       "<matplotlib.figure.Figure at 0x7fc2db8ebe80>"
      ]
     },
     "metadata": {},
     "output_type": "display_data"
    }
   ],
   "source": [
    "mean_delay_per_month = df_with_delay.groupBy(\"month\")\\\n",
    "                                    .agg(func.mean(\"arrival_delay\").alias(\"mean_delay\"))\\\n",
    "                                    .orderBy(\"month\")\n",
    "pdf_mean_delay_per_month = pd.DataFrame(mean_delay_per_month.collect())\n",
    "####### The changes of delay ratio over months ########\n",
    "# calculate the delay ratio in month\n",
    "statistic_month = (\n",
    "    df_with_delay.groupBy(\"month\")\\\n",
    "    .agg(func.sum('is_delay')/func.count('*')).alias('delay_ratio')\\\n",
    "     .orderBy(\"month\")\\\n",
    "    )\n",
    "    \n",
    "# collect data and plot\n",
    "pdf_month = pd.DataFrame(statistic_month.collect())\n",
    "plt.figure(figsize=(20,10))\n",
    "plt.margins(0.05,0)\n",
    "plt.ylim(0,0.3)\n",
    "bars = plt.bar(pdf_month[0], pdf_month[1], width=0.4, align='center')\n",
    "color(bars, pdf_mean_delay_per_month)\n",
    "plt.legend(handles=[patch1, patch2, patch3, patch4, patch5], bbox_to_anchor=(1.05, 1), loc=2, borderaxespad=0.)\n",
    "plt.xticks(pdf_month[0], months, rotation=45)\n",
    "plt.title('Figure 10: The ratio of delay over months')\n",
    "plt.show()"
   ]
  },
  {
   "cell_type": "markdown",
   "metadata": {},
   "source": [
    "<div class=\"alert alert-warning\"> PUT YOUR COMMENT HERE </div>"
   ]
  },
  {
   "cell_type": "markdown",
   "metadata": {},
   "source": [
    "We are ready now to draw some observations from our data, even if we have only looked at data coming from a year worth of flights:\n",
    "\n",
    "- The probability for a flight to be delayed is low at the beginning or at the very end of a given months\n",
    "- Flights on two first weekdays and on the weekend, are less likely to be delayed\n",
    "- May and September are very good months for travelling, as the probability of delay is low (remember we're working on US data. Do you think this is also true in France?)\n",
    "\n",
    "Putting things together, we can have a global picture of the whole year!"
   ]
  },
  {
   "cell_type": "code",
   "execution_count": 32,
   "metadata": {
    "collapsed": false
   },
   "outputs": [],
   "source": [
    "df_with_delay = df.withColumn('is_delay', when(df[\"arrival_delay\"] >= 15, 1).otherwise(0))\n",
    "statistic_day = df_with_delay.groupBy(['year','month', 'day_of_month', 'day_of_week'])\\\n",
    "    .agg((func.sum('is_delay')/func.count('*')).alias('delay_ratio'))\n",
    "\n",
    "# assume that we do statistic on year 1994\n",
    "statistic_day = statistic_day\\\n",
    "    .orderBy('year', 'month', 'day_of_month', 'day_of_week')\n",
    "pdf = pd.DataFrame(data=statistic_day.collect())"
   ]
  },
  {
   "cell_type": "code",
   "execution_count": 33,
   "metadata": {
    "collapsed": false
   },
   "outputs": [
    {
     "data": {
      "image/png": "[encoded data removed]",
      "text/plain": [
       "<matplotlib.figure.Figure at 0x7fc2dc3a2128>"
      ]
     },
     "metadata": {},
     "output_type": "display_data"
    }
   ],
   "source": [
    "fig = plt.figure(figsize=(20,10))                                                             \n",
    "ax = fig.add_subplot(1,1,1)     \n",
    "plt.xlabel(\"Weeks/Months in year\")\n",
    "plt.ylabel(\"Day of weeks (1:Monday -> 7 :Sunday)\")\n",
    "plt.title('Figure 10: The change of number flights over days in year')\n",
    "  \n",
    "rec_size = 0.3\n",
    "from matplotlib.patches import Rectangle\n",
    "import datetime\n",
    "num_days = len(pdf[0])\n",
    "ax.patch.set_facecolor('gray')\n",
    "ax.set_aspect('equal', 'box')\n",
    "ax.xaxis.set_major_locator(plt.NullLocator())\n",
    "ax.yaxis.set_major_locator(plt.NullLocator())\n",
    "\n",
    "for i in range(0, num_days):\n",
    "    # extract information from the result\n",
    "    year = pdf[0][i]\n",
    "    month = pdf[1][i]\n",
    "    day_of_month = pdf[2][i]\n",
    "    day_of_week = pdf[3][i]\n",
    "    day_of_year= datetime.date(year=year, month=month, day=day_of_month).timetuple()\n",
    "    week_of_year = datetime.date(year=year, month=month, day=day_of_month).isocalendar()[1]\n",
    "    \n",
    "    # dealing with the week of the previous year\n",
    "    if week_of_year == 52 and month == 1:\n",
    "        week_of_year = 0\n",
    "        \n",
    "    # the coordinate of a day in graph\n",
    "    X = week_of_year*rec_size\n",
    "    Y = day_of_week*rec_size\n",
    "    \n",
    "    # use different colors to show the delay ratio\n",
    "    color = 'white'\n",
    "    if pdf[4][i] <= 0.084:\n",
    "        color = 'lightyellow'\n",
    "    elif pdf[4][i] <= 0.117:\n",
    "        color = 'lightgreen'\n",
    "    elif pdf[4][i] <= 0.152:\n",
    "        color = 'gold'\n",
    "    elif pdf[4][i] <= 0.201:\n",
    "        color = 'orange'\n",
    "    else:\n",
    "        color = 'red'\n",
    "    rect = plt.Rectangle((X - rec_size/2.0, Y - rec_size/2.0), rec_size, rec_size,\n",
    "                      alpha=1, facecolor=color, edgecolor='whitesmoke')\n",
    "\n",
    "    ax.add_patch(rect)\n",
    "    \n",
    "    # drawing boders to separate months\n",
    "    if day_of_month <= 7:\n",
    "        rect2 = plt.Rectangle((X -rec_size/2.0, Y - rec_size/2.0), 0.01, rec_size,\n",
    "                      alpha=1, facecolor='black')\n",
    "        ax.add_patch(rect2)\n",
    "    if day_of_month == 1:\n",
    "        rect2 = plt.Rectangle((X - rec_size/2.0, Y - rec_size/2.0), rec_size, 0.01,\n",
    "                      alpha=1, facecolor='black')\n",
    "        ax.add_patch(rect2)\n",
    "ax.autoscale_view()\n",
    "\n",
    "patch1 = mpatches.Patch(color='lightyellow', label='delay ratio < 8.4%')\n",
    "patch2 = mpatches.Patch(color='lightgreen', label='delay ratio < 11.7%')\n",
    "patch3 = mpatches.Patch(color='gold', label='delay ratio < 15.2%')\n",
    "patch4 = mpatches.Patch(color='orange', label='delay ratio < 20.1%')\n",
    "patch5 = mpatches.Patch(color='red', label='delay ratio >= 20.1%')\n",
    "\n",
    "plt.legend(handles=[patch1, patch2, patch3, patch4, patch5], bbox_to_anchor=(1.05, 1), loc=2, borderaxespad=0.)\n",
    "\n",
    "plt.show()"
   ]
  },
  {
   "cell_type": "markdown",
   "metadata": {},
   "source": [
    "#### Question 5.6\n",
    "<div class=\"alert alert-info\">\n",
    "Explain figure 10.\n",
    "</div>"
   ]
  },
  {
   "cell_type": "markdown",
   "metadata": {},
   "source": [
    "<div class=\"alert alert-warning\"> PUT YOUR COMMENT HERE </div>"
   ]
  },
  {
   "cell_type": "markdown",
   "metadata": {
    "collapsed": true
   },
   "source": [
    "#### Question 5.7\n",
    "<div class=\"alert alert-info\">\n",
    "\n",
    "What is the delay probability for the top 20 busiest airports?  \n",
    "\n",
    "\n",
    "By drawing the flight volume of each airport and the associated delay probability in a single plot, we can observe the relationship between airports, number of flights and the delay.  \n",
    "\n",
    "<div class=\"label label-success\">HINT </div>  Function `<df_colum>.isin(<list>)` helps checking whether a value in column belongs to a list.\n",
    "</div>"
   ]
  },
  {
   "cell_type": "code",
   "execution_count": 34,
   "metadata": {
    "collapsed": false
   },
   "outputs": [
    {
     "name": "stdout",
     "output_type": "stream",
     "text": [
      "+-----------+--------------------------+\n",
      "|src_airport|(sum(is_delay) / count(1))|\n",
      "+-----------+--------------------------+\n",
      "|        ATL|       0.21205403501801467|\n",
      "|        BOS|       0.20337767149902855|\n",
      "|        CLT|       0.22251161209048542|\n",
      "|        DCA|        0.1599864322460286|\n",
      "|        DEN|       0.20354670607451195|\n",
      "|        DFW|       0.22524719636014578|\n",
      "|        DTW|       0.17069213736050923|\n",
      "|        EWR|       0.26439606741573035|\n",
      "|        IAH|        0.1660171622737133|\n",
      "|        LAS|       0.17218759213241797|\n",
      "|        LAX|       0.16996104082244257|\n",
      "|        LGA|       0.19028312259483232|\n",
      "|        MCO|         0.167725622406639|\n",
      "|        MSP|       0.15585690866890653|\n",
      "|        ORD|       0.16788302771286917|\n",
      "|        PHL|       0.21505583159694394|\n",
      "|        PHX|       0.17194317278139576|\n",
      "|        PIT|       0.21883994899867915|\n",
      "|        SFO|       0.16634949633351095|\n",
      "|        STL|       0.18877507271995725|\n",
      "+-----------+--------------------------+\n",
      "\n"
     ]
    }
   ],
   "source": [
    "####### The delay ratio of the top 20 busiest airports ########\n",
    "K = 20\n",
    "\n",
    "# extract top_20_airports from stat_airport_traffic\n",
    "top_20_airports = [item[0] for item in stat_airport_traffic.take(K)]\n",
    "\n",
    "# select the statistic of source airports\n",
    "statistic_ratio_delay_airport = (\n",
    "    df_with_delay\n",
    "        # select only flights that depart from one of top 20 ariports\n",
    "        .filter(df_with_delay.src_airport.isin(top_20_airports))\n",
    "        # group by source airport\n",
    "        .groupBy('src_airport')\n",
    "        #  calculate the delay ratio\n",
    "        .agg(func.sum('is_delay')/func.count('*')).alias('delay_ratio')\n",
    "        # sort by name of airport\n",
    "        .orderBy(['src_airport'])\n",
    "    )\n",
    "statistic_ratio_delay_airport.show(20)"
   ]
  },
  {
   "cell_type": "code",
   "execution_count": 35,
   "metadata": {
    "collapsed": false
   },
   "outputs": [
    {
     "data": {
      "image/png": "[encoded data removed]",
      "text/plain": [
       "<matplotlib.figure.Figure at 0x7fc2dc42cdd8>"
      ]
     },
     "metadata": {},
     "output_type": "display_data"
    }
   ],
   "source": [
    "# collect data and plot\n",
    "pdf_ratio_delay_airport = pd.DataFrame(data=statistic_ratio_delay_airport.collect())\n",
    "pdf_top_20_airport_volume = pd.DataFrame(data=stat_airport_traffic.take(K), columns=['src_airport', 'total'])\n",
    "pdf_top_20_airport_volume = pdf_top_20_airport_volume.sort_values(by='src_airport')\n",
    "#print(pdf_top_20_airport_volume)\n",
    "index = np.arange(len(top_20_airports))\n",
    "bar_width = 0.35\n",
    "opacity = 0.4\n",
    "\n",
    "\n",
    "fig = plt.figure(figsize=(20,10))                                                             \n",
    "ax = fig.add_subplot(1,1,1)\n",
    "\n",
    "ax2 = ax.twinx()\n",
    "plt.axis('normal')\n",
    "ax.set_xlabel(\"Airport\")\n",
    "ax.set_ylabel(\"Flight volume\")\n",
    "ax2.set_ylabel(\"Ratio of delay\")\n",
    "plt.xticks(index + bar_width, top_20_airports)\n",
    "plt.title('Figure 11: The ratio of delay over months')\n",
    "plt.grid(True,which=\"both\",ls=\"-\")\n",
    "bar = ax.bar(index, pdf_top_20_airport_volume['total'], \n",
    "        bar_width, color='b', \n",
    "        label='flight volume')\n",
    "bar2 = ax2.bar(index + 1.5*bar_width, pdf_ratio_delay_airport[1], bar_width, \n",
    "       align='center', color='r', \n",
    "       label='Delay ratio')\n",
    "\n",
    "lines, labels = ax.get_legend_handles_labels()\n",
    "lines2, labels2 = ax2.get_legend_handles_labels()\n",
    "ax2.legend(lines + lines2, labels + labels2, loc=0)\n",
    "\n",
    "plt.tight_layout()\n",
    "plt.show()"
   ]
  },
  {
   "cell_type": "code",
   "execution_count": 169,
   "metadata": {
    "collapsed": false
   },
   "outputs": [
    {
     "name": "stderr",
     "output_type": "stream",
     "text": [
      "/opt/conda/lib/python3.5/site-packages/matplotlib/collections.py:590: FutureWarning: elementwise comparison failed; returning scalar instead, but in the future will perform elementwise comparison\n",
      "  if self._edgecolors == str('face'):\n"
     ]
    },
    {
     "data": {
      "image/png": "[encoded data removed]",
      "text/plain": [
       "<matplotlib.figure.Figure at 0x7fc2d80aab38>"
      ]
     },
     "metadata": {},
     "output_type": "display_data"
    }
   ],
   "source": [
    "plt.figure(figsize=(20,10))\n",
    "sns.regplot(pdf_top_20_airport_volume['total'], pdf_ratio_delay_airport[1], data=pdf_ratio_delay_airport[0])\n",
    "plt.xlabel(\"Total nr of flights\")\n",
    "plt.ylabel(\"Percentage of delays\")\n",
    "plt.show()"
   ]
  },
  {
   "cell_type": "markdown",
   "metadata": {},
   "source": [
    "<div class=\"alert alert-warning\"> PUT YOUR COMMENT HERE </div>"
   ]
  },
  {
   "cell_type": "markdown",
   "metadata": {},
   "source": [
    "#### Question 5.8\n",
    "<div class=\"alert alert-info\">\n",
    "What is the percentage of delayed flights which belong to one of the top 20 busiest carriers?  \n",
    "Comment the figure!\n",
    "</div>"
   ]
  },
  {
   "cell_type": "code",
   "execution_count": 36,
   "metadata": {
    "collapsed": false
   },
   "outputs": [
    {
     "name": "stdout",
     "output_type": "stream",
     "text": [
      "+-------+--------------------------+\n",
      "|carrier|(sum(is_delay) / count(1))|\n",
      "+-------+--------------------------+\n",
      "|     AA|        0.1752444006939166|\n",
      "|     AS|        0.1596424771227921|\n",
      "|     CO|        0.1955576547849367|\n",
      "|     DL|       0.18328443065157582|\n",
      "|     HP|       0.18625141269939444|\n",
      "|     NW|        0.1294806523639286|\n",
      "|     TW|       0.18212273193780135|\n",
      "|     UA|        0.1686528375733855|\n",
      "|     US|       0.18422298014001534|\n",
      "|     WN|       0.12829795587751536|\n",
      "+-------+--------------------------+\n",
      "\n"
     ]
    }
   ],
   "source": [
    "K = 20\n",
    "\n",
    "# extract top_20_carriers from stat_carrier\n",
    "top_20_carriers = [item[0] for item in stat_carrier.take(K)]\n",
    "\n",
    "statistic_ratio_delay_carrier = (\n",
    "    df_with_delay\n",
    "        # select only flights that belong from one of top 20 carriers\n",
    "        .filter(df_with_delay.carrier.isin(top_20_carriers))\n",
    "        # group by carriers\n",
    "        .groupby('carrier')\n",
    "        #  calculate the delay ratio\n",
    "        .agg(func.sum('is_delay')/func.count('*')).alias('delay_ratio')\n",
    "        # sort by name of airport\n",
    "        .orderBy('carrier')\n",
    "    )\n",
    "statistic_ratio_delay_carrier.show(20)"
   ]
  },
  {
   "cell_type": "code",
   "execution_count": 37,
   "metadata": {
    "collapsed": false
   },
   "outputs": [
    {
     "data": {
      "image/png": "[encoded data removed]",
      "text/plain": [
       "<matplotlib.figure.Figure at 0x7fc2dbec49e8>"
      ]
     },
     "metadata": {},
     "output_type": "display_data"
    }
   ],
   "source": [
    "# collect data and plot\n",
    "pdf_ratio_delay_carrier = pd.DataFrame(data=statistic_ratio_delay_carrier.collect())\n",
    "pdf_top_20_carrier_volume = pd.DataFrame(data=stat_carrier.take(K), columns=['carrier', 'count'])\n",
    "pdf_top_20_carrier_volume = pdf_top_20_carrier_volume.sort_values(by='carrier')\n",
    "#print(pdf_top_20_carrier_volume)\n",
    "top_20_carriers.sort()\n",
    "index = np.arange(len(top_20_carriers))\n",
    "bar_width = 0.35\n",
    "opacity = 0.4\n",
    "\n",
    "\n",
    "fig = plt.figure(figsize=(20,10))                                                             \n",
    "ax = fig.add_subplot(1,1,1)\n",
    "\n",
    "ax2 = ax.twinx()\n",
    "plt.axis('normal')\n",
    "ax.set_xlabel(\"Carrier\")\n",
    "ax.set_ylabel(\"Flight volume\")\n",
    "ax2.set_ylabel(\"Ratio of delay\")\n",
    "plt.xticks(index + bar_width, top_20_carriers)\n",
    "\n",
    "plt.title('Figure 11: The radio of delay over months')\n",
    "plt.grid(True,which=\"both\",ls=\"-\")\n",
    "bar = ax.bar(index, pdf_top_20_carrier_volume['count'], \n",
    "        bar_width, color='b', \n",
    "        label='flight volume')\n",
    "bar2 = ax2.bar(index + 1.5*bar_width, pdf_ratio_delay_carrier[1], bar_width, \n",
    "       align='center', color='r', \n",
    "       label='Delay ratio')\n",
    "\n",
    "lines, labels = ax.get_legend_handles_labels()\n",
    "lines2, labels2 = ax2.get_legend_handles_labels()\n",
    "ax2.legend(lines + lines2, labels + labels2, loc=0)\n",
    "\n",
    "plt.tight_layout()\n",
    "plt.show()"
   ]
  },
  {
   "cell_type": "markdown",
   "metadata": {},
   "source": [
    "<div class=\"alert alert-warning\"> PUT YOUR COMMENT HERE </div>"
   ]
  },
  {
   "cell_type": "markdown",
   "metadata": {},
   "source": [
    "# 4. Building a model of our data\n",
    "Now that we have a good grasp on our data and its features, we will focus on how build a statistic model. Note that the features we can decide to use, to train our model, can be put in two groups:\n",
    "\n",
    "- **Explicit features**: these are features that are present in the original data, or that can be built using additional data sources such as `weather` (for example querying a public API)\n",
    "- **Implicit features**: these are the features that are inferred from other features such as `is_weekend`, `is_holiday`, `season`, `in_winter`,...\n",
    "\n",
    "In this notebook, we will focus on the following predictors: `year`, `month`, `day_of_month`, `day_of_week`, `scheduled_departure_time`, `scheduled_arrival_time`, `carrier`, `is_weekend`, `distance`, `src_airport`, `dest_airport`. Among them, `is_weekend` is an implicit feature. The rest are explicit features.\n",
    "\n",
    "The target feature is `arrival_delay`. \n",
    "\n",
    "Currently, MLLIB only supports building models from RDDs. It is important to read well the documentation and the MLLib API, to make sure to use the algorithms in an appropriate manner:\n",
    "\n",
    "- MLLIB supports both categorical and numerical features. However, for each categorical feature, we have to indicate how many distinct values they can take\n",
    "- Each training record must be a ```LabelledPoint```. This data structure has 2 components: ```label``` and ```predictor vector```. ```label``` is the value of target feature in the current record. ```predictor vector``` is a vector of values of type ```Double```. As such, we need to map each value of each categorical feature to a number. In this project, we choose a naïve approach: map each value to a unique index. \n",
    "- MLLIB uses a binning technique to find the split point (the predicate in each tree node). In particular, it divides the domain of numerical features into ```maxBins``` bins (32 by default). With categorical features, each distinct value fits in its own bin. **IMPORTANT:** MLLIB requires that no categorical feature have more than `maxBins` distinct values.\n",
    "- We fill up the missing values in each **categorical** feature with its most common value. The missing values of a **numerical** feature are also replaced by the most common value (however, in some cases, a more sensible approach would be to use the median of this kind of feature).\n"
   ]
  },
  {
   "cell_type": "markdown",
   "metadata": {},
   "source": [
    "## 4.1 Mapping values of each categorical feature to indices"
   ]
  },
  {
   "cell_type": "markdown",
   "metadata": {},
   "source": [
    "### Question 6 \n",
    "\n",
    "Among the selected features, `src_aiport`, `dest_airport`, `carrier` and `distance` have missing values. Besides, the first three of them are categorical features. That means, in order to use them as input features of MLLIB, the values of these features must be numerical. We can use a naïve approach: map each value of each feature to a unique index.\n",
    "\n",
    "#### Question 6.1\n",
    "<div class=\"alert alert-info\">\n",
    "Calculate the frequency of each source airport in the data and build a dictionary that maps each of them to a unique index.  \n",
    "\n",
    "**Note:** we sort the airports by their frequency in descending order, so that we can easily take the most common airport(s) by taking the first element(s) in the result.\n",
    "</div>"
   ]
  },
  {
   "cell_type": "code",
   "execution_count": 112,
   "metadata": {
    "collapsed": false
   },
   "outputs": [
    {
     "name": "stdout",
     "output_type": "stream",
     "text": [
      "['ORD', 'DFW', 'ATL', 'LAX', 'STL', 'DEN', 'PHX', 'DTW', 'PIT', 'CLT', 'MSP', 'SFO', 'EWR', 'IAH', 'LGA', 'BOS', 'LAS', 'PHL', 'DCA', 'MCO', 'SEA', 'MIA', 'BWI', 'SLC', 'CVG', 'CLE', 'SAN', 'TPA', 'MCI', 'HOU', 'BNA', 'MEM', 'MSY', 'RDU', 'MDW', 'OAK', 'JFK', 'DAL', 'CMH', 'IND', 'SAT', 'SJC', 'FLL', 'PDX', 'ONT', 'ABQ', 'GSO', 'AUS', 'SNA', 'IAD', 'SMF', 'ELP', 'BDL', 'JAX', 'BUR', 'ORF', 'PBI', 'BUF', 'OKC', 'SDF', 'TUL', 'SJU', 'DAY', 'RNO', 'ROC', 'MKE', 'LIT', 'BHM', 'ANC', 'OMA', 'RIC', 'SYR', 'TUS', 'RSW', 'PVD', 'HNL', 'CHS', 'ALB', 'GSP', 'GRR', 'COS', 'DSM', 'TYS', 'MDT', 'GEG', 'SRQ', 'ICT', 'HSV', 'MAF', 'ABE', 'SAV', 'LBB', 'PNS', 'TLH', 'BOI', 'CAE', 'PWM', 'HRL', 'HPN', 'MOB', 'BTR', 'CRP', 'JAN', 'LEX', 'SHV', 'DAB', 'FAI', 'SWF', 'MHT', 'CID', 'MSN', 'AMA', 'FSD', 'MBS', 'BIL', 'JNU', 'ISP', 'MLB', 'SBN', 'CHA', 'MFE', 'RST', 'AGS', 'TRI', 'BTV', 'ROA', 'FAT', 'PSP', 'AVL', 'STT', 'FWA', 'LGB', 'LNK', 'OGG', 'GRB', 'MLI', 'AZO', 'BZN', 'AVP', 'FAY', 'MGM', 'MYR', 'CRW', 'TOL', 'KTN', 'LAN', 'GTF', 'MLU', 'FAR', 'ILM', 'EUG', 'SBA', 'BGR', 'MSO', 'DLH', 'SGF', 'JAC', 'CAK', 'PHF', 'ELM', 'BGM', 'ERI', 'GNV', 'MFR', 'BIS', 'GFK', 'SIT', 'MRY', 'STX', 'HTS', 'PSC', 'PFN', 'RAP', 'LSE', 'EVV', 'IDA', 'BRO', 'ITH', 'VPS', 'HLN', 'MOT', 'HVN', 'OAJ', 'CSG', 'OME', 'OTZ', 'TVC', 'FCA', 'BET', 'SCC', 'FNT', 'PIA', 'KOA', 'CDV', 'YAK', 'BQN', 'WRG', 'BRW', 'PSG', 'ACY', 'EGE', 'HDN', 'BFL', 'ADQ', 'AKN', 'DUT', 'DLG', 'SUX', 'CPR', 'LFT', 'GJT', 'GUC', 'BTM', 'ANI', 'KSM', 'GST', 'COD', 'PSE', 'ACK', 'MTJ', 'DRO', 'SPN', 'TWF', 'SPI']\n",
      "0\n",
      "2\n"
     ]
    }
   ],
   "source": [
    "# select distinct source airports and map values to index\n",
    "# sort the airport by their frequency descending\n",
    "# so the most common aiport will be on the top\n",
    "stat_src = (\n",
    "    df\n",
    "        .groupBy('src_airport')\n",
    "        .agg(func.count('*').alias('count'))\n",
    "        .orderBy(desc('count'))\n",
    "    )\n",
    "\n",
    "# extract the airport names from stat_src\n",
    "src_airports = [item[0] for item in stat_src.collect()]\n",
    "\n",
    "num_src_airports = len(src_airports)\n",
    "src_airports_idx = range(0, num_src_airports)\n",
    "map_src_airport_to_index = dict(zip(src_airports, src_airports_idx))\n",
    "print(src_airports)\n",
    "# test the dictionary\n",
    "print(map_src_airport_to_index['ORD'])\n",
    "print(map_src_airport_to_index['ATL'])"
   ]
  },
  {
   "cell_type": "markdown",
   "metadata": {},
   "source": [
    "#### Question 6.2\n",
    "<div class=\"alert alert-info\">\n",
    "Calculate the frequency of each destination airport in the data and build a dictionary that maps each of them to a unique index.\n",
    "</div>"
   ]
  },
  {
   "cell_type": "code",
   "execution_count": 111,
   "metadata": {
    "collapsed": false
   },
   "outputs": [
    {
     "name": "stdout",
     "output_type": "stream",
     "text": [
      "['ORD', 'DFW', 'ATL', 'LAX', 'STL', 'DEN', 'PHX', 'DTW', 'PIT', 'CLT', 'MSP', 'SFO', 'EWR', 'IAH', 'LGA', 'BOS', 'LAS', 'PHL', 'DCA', 'MCO', 'SEA', 'MIA', 'BWI', 'SLC', 'CVG', 'CLE', 'SAN', 'TPA', 'MCI', 'HOU', 'BNA', 'MEM', 'RDU', 'MSY', 'MDW', 'OAK', 'DAL', 'JFK', 'CMH', 'IND', 'FLL', 'SJC', 'SAT', 'PDX', 'ONT', 'GSO', 'ABQ', 'AUS', 'SNA', 'IAD', 'SMF', 'ELP', 'BDL', 'JAX', 'BUR', 'ORF', 'PBI', 'BUF', 'OKC', 'SDF', 'TUL', 'SJU', 'DAY', 'RNO', 'ROC', 'MKE', 'LIT', 'ANC', 'BHM', 'RIC', 'OMA', 'SYR', 'TUS', 'RSW', 'PVD', 'HNL', 'CHS', 'ALB', 'GSP', 'GRR', 'COS', 'DSM', 'TYS', 'MDT', 'GEG', 'SRQ', 'ICT', 'HSV', 'MAF', 'ABE', 'SAV', 'PNS', 'LBB', 'TLH', 'CAE', 'BOI', 'PWM', 'MOB', 'HRL', 'HPN', 'BTR', 'JAN', 'CRP', 'LEX', 'SHV', 'DAB', 'FAI', 'SWF', 'MHT', 'CID', 'AMA', 'MSN', 'FSD', 'BIL', 'JNU', 'MBS', 'ISP', 'MLB', 'SBN', 'CHA', 'MFE', 'RST', 'AGS', 'TRI', 'ROA', 'BTV', 'FAT', 'STT', 'AVL', 'PSP', 'FWA', 'LGB', 'LNK', 'MLI', 'OGG', 'GRB', 'AZO', 'BZN', 'AVP', 'MGM', 'FAY', 'MYR', 'KTN', 'TOL', 'CRW', 'LAN', 'MLU', 'GTF', 'FAR', 'ILM', 'EUG', 'SBA', 'BGR', 'MSO', 'DLH', 'SGF', 'JAC', 'PHF', 'CAK', 'ELM', 'BGM', 'GNV', 'ERI', 'MFR', 'SIT', 'BIS', 'GFK', 'MRY', 'HTS', 'PSC', 'STX', 'PFN', 'RAP', 'LSE', 'EVV', 'IDA', 'BRO', 'ITH', 'HLN', 'VPS', 'MOT', 'CSG', 'HVN', 'OAJ', 'OTZ', 'OME', 'TVC', 'FCA', 'BET', 'SCC', 'FNT', 'KOA', 'CDV', 'YAK', 'PIA', 'BQN', 'BRW', 'WRG', 'PSG', 'ACY', 'EGE', 'HDN', 'BFL', 'ADQ', 'AKN', 'DUT', 'DLG', 'SUX', 'CPR', 'LFT', 'GJT', 'GUC', 'BTM', 'ANI', 'KSM', 'GST', 'COD', 'PSE', 'ACK', 'MTJ', 'DRO', 'GUM', 'TWF', 'SPI', 'BFI']\n",
      "0\n",
      "2\n"
     ]
    }
   ],
   "source": [
    "# select distinct destination airports and map values to index\n",
    "# sort the airport by their frequency descending\n",
    "# so the most common aiport will be on the top\n",
    "stat_dest = (\n",
    "        df\n",
    "        .groupBy('dest_airport')\n",
    "        .agg(func.count('*').alias('count'))\n",
    "        .orderBy(desc('count'))\n",
    "    )\n",
    "\n",
    "dest_airports = [airport[0] for airport in stat_dest.collect()]\n",
    "num_dest_airports = len(dest_airports)\n",
    "dest_airports_idx = range(0, num_dest_airports)\n",
    "\n",
    "map_dest_airports_to_index = dict(zip(dest_airports, dest_airports_idx))\n",
    "print(dest_airports)\n",
    "# test the dictionary\n",
    "print(map_src_airport_to_index['ORD'])\n",
    "print(map_src_airport_to_index['ATL'])"
   ]
  },
  {
   "cell_type": "markdown",
   "metadata": {},
   "source": [
    "#### Question 6.3\n",
    "<div class=\"alert alert-info\">\n",
    "Calculate the frequency of each carrier in the data and build a dictionary that maps each of them to a unique index.\n",
    "</div>"
   ]
  },
  {
   "cell_type": "code",
   "execution_count": 40,
   "metadata": {
    "collapsed": true
   },
   "outputs": [],
   "source": [
    "# select distinct carriers and map values to index\n",
    "# sort carriers by their frequency descending\n",
    "# so the most common aiport will be on the top\n",
    "stat_carr = (\n",
    "            df\n",
    "            .groupby('carrier')\n",
    "            .agg(func.count('*').alias('count'))\n",
    "            .orderBy(desc('count'))\n",
    "        )\n",
    "\n",
    "carriers = [carrier[0] for carrier in stat_carr.collect()]\n",
    "num_carriers = len(carriers)\n",
    "carriers_idx = range(0, num_carriers)\n",
    "map_carriers_to_index = dict(zip(carriers, carriers_idx))"
   ]
  },
  {
   "cell_type": "markdown",
   "metadata": {},
   "source": [
    "## 4.2 Calculating the most common value of each feature\n",
    "We use a simple strategy for filling in the missing values: replacing them with the most common value of the corresponding feature.\n",
    "\n",
    "<div class=\"alert alert-danger\">\n",
    "**IMPORTANT NOTE:** features like ```month```, ```day_of_month```, etc... can be treated as numerical features in general. However, when it comes to build the model, it is much easier considering them as categorical features. In this case, to compute the most common value for such categorical features, we simply use the frequency of occurrence of each `label`, and chose the most frequent.\n",
    "</div>"
   ]
  },
  {
   "cell_type": "markdown",
   "metadata": {},
   "source": [
    "### Question 7\n",
    "In the previous question, when constructing the dictionary for categorical features, we also sort their statistical information in a such way that the most common value of each feature are placed on the top.\n",
    "\n",
    "Note that, feature `is_weekend` has the most common value set to `0` (that is, `no` the day is not a weekend)."
   ]
  },
  {
   "cell_type": "markdown",
   "metadata": {},
   "source": [
    "#### Question 7.1\n",
    "<div class=\"alert alert-info\">\n",
    "Find the most common value of feature `month` in data.\n",
    "</div>\n",
    "\n"
   ]
  },
  {
   "cell_type": "code",
   "execution_count": 41,
   "metadata": {
    "collapsed": false
   },
   "outputs": [
    {
     "name": "stdout",
     "output_type": "stream",
     "text": [
      "The most common month: 8\n"
     ]
    }
   ],
   "source": [
    "the_most_common_month = (\n",
    "    df\n",
    "        .groupBy('month')\n",
    "        .agg(func.count('*').alias('count'))\n",
    "        .orderBy(desc('count'))\n",
    "    ).first()[0]\n",
    "\n",
    "print(\"The most common month:\", the_most_common_month)"
   ]
  },
  {
   "cell_type": "markdown",
   "metadata": {},
   "source": [
    "#### Question 7.2\n",
    "<div class=\"alert alert-info\">\n",
    "Find the most common value of features `day_of_month` and `day_of_week`.\n",
    "</div>"
   ]
  },
  {
   "cell_type": "code",
   "execution_count": 42,
   "metadata": {
    "collapsed": false
   },
   "outputs": [
    {
     "name": "stdout",
     "output_type": "stream",
     "text": [
      "The most common day of month: 11\n",
      "The most common day of week: 3\n"
     ]
    }
   ],
   "source": [
    "the_most_common_day_of_month = (\n",
    "        df\n",
    "        .groupBy('day_of_month')\n",
    "        .agg(func.count('*').alias('count'))\n",
    "        .orderBy(desc('count'))\n",
    "    ).first()[0]\n",
    "\n",
    "the_most_common_day_of_week = (\n",
    "        df\n",
    "        .groupBy('day_of_week')\n",
    "        .agg(func.count('*').alias('count'))\n",
    "        .orderBy(desc('count'))\n",
    "    ).first()[0]\n",
    "\n",
    "print(\"The most common day of month:\", the_most_common_day_of_month)\n",
    "print(\"The most common day of week:\", the_most_common_day_of_week)"
   ]
  },
  {
   "cell_type": "markdown",
   "metadata": {},
   "source": [
    "#### Question 7.3\n",
    "<div class=\"alert alert-info\">\n",
    "Find the most common value of features `scheduled_departure_time` and `scheduled_arrival_time`.\n",
    "</div>"
   ]
  },
  {
   "cell_type": "code",
   "execution_count": 43,
   "metadata": {
    "collapsed": false
   },
   "outputs": [
    {
     "name": "stdout",
     "output_type": "stream",
     "text": [
      "The most common scheduled departure time: 7.0\n",
      "The most common scheduled arrival time: 16.0\n"
     ]
    }
   ],
   "source": [
    "the_most_common_s_departure_time = (\n",
    "                                    df_with_delay.withColumn('hour', round(df.scheduled_departure_time/100, 0)%24)\n",
    "                                    .groupby('hour')\n",
    "                                    .agg(func.count('*').alias('count'))\n",
    "                                    .orderBy(desc('count'))\n",
    "                                    ).first()[0]\n",
    "\n",
    "\n",
    "the_most_common_s_arrival_time = (\n",
    "                                    df_with_delay.withColumn('hour', round(df.scheduled_arrival_time/100, 0)%24)\n",
    "                                    .groupby('hour')\n",
    "                                    .agg(func.count('*').alias('count'))\n",
    "                                    .orderBy(desc('count'))\n",
    "                                ).first()[0]\n",
    "    \n",
    "print(\"The most common scheduled departure time:\", the_most_common_s_departure_time)\n",
    "print(\"The most common scheduled arrival time:\", the_most_common_s_arrival_time)"
   ]
  },
  {
   "cell_type": "markdown",
   "metadata": {},
   "source": [
    "#### Question 7.4\n",
    "<div class=\"alert alert-info\">\n",
    "Calculate the mean of distance in the data. This value will be used to fill in the missing values of feature `distance` later.\n",
    "</div>"
   ]
  },
  {
   "cell_type": "code",
   "execution_count": 44,
   "metadata": {
    "collapsed": false
   },
   "outputs": [
    {
     "name": "stdout",
     "output_type": "stream",
     "text": [
      "mean distance: 671\n"
     ]
    }
   ],
   "source": [
    "# calculate mean distance\n",
    "import math\n",
    "mean_distance = df.agg(func.mean('distance').alias('mean')).first()[0]\n",
    "mean_distance = math.ceil(mean_distance)\n",
    "print(\"mean distance:\", mean_distance)"
   ]
  },
  {
   "cell_type": "markdown",
   "metadata": {},
   "source": [
    "#### Question 7.5\n",
    "<div class=\"alert alert-info\">\n",
    "Calculate the mean of arrival delay.\n",
    "</div>"
   ]
  },
  {
   "cell_type": "code",
   "execution_count": 45,
   "metadata": {
    "collapsed": false
   },
   "outputs": [
    {
     "name": "stdout",
     "output_type": "stream",
     "text": [
      "mean arrival delay: 6\n"
     ]
    }
   ],
   "source": [
    "# calculate mean arrival delay\n",
    "mean_arrival_delay = math.ceil(df.agg(func.mean('arrival_delay').alias('mean')).first()[0])\n",
    "print(\"mean arrival delay:\", mean_arrival_delay)"
   ]
  },
  {
   "cell_type": "markdown",
   "metadata": {},
   "source": [
    "As known from section 3.4, there are 225 different origin airports and 225 different destination airports, more than the number of bins in default configuration. So, we must set `maxBins` >= 225."
   ]
  },
  {
   "cell_type": "markdown",
   "metadata": {},
   "source": [
    "## 4.3 Preparing training data and testing data\n",
    "Recall, in this project we focus on decision trees. One way to think about our task is that we want to predict the unknown `arrival_delay` as a function combining several features, that is:\n",
    "\n",
    "`arrival_delay = f(year, month, day_of_month, day_of_week, scheduled_departure_time, scheduled_arrival_time, carrier, src_airport, dest_airport, distance, is_weekend)`\n",
    "\n",
    "When categorical features contain corrupt data (e.g., missing values), we proceed by replacing corrupt information with the most common value for the feature. For numerical features, in general, we use the same approach as for categorical features; in some cases, we repair corrupt data using the mean value of the distribution for numerical features (e.g., we found the mean for `delay` and `distance`, by answering questions above).\n",
    "\n",
    "The original data is split randomly into two parts with ratios 70% for **training** and 30% for **testing**."
   ]
  },
  {
   "cell_type": "markdown",
   "metadata": {},
   "source": [
    "### Question 8\n",
    "<div class=\"alert alert-info\">\n",
    "  o  Replace the missing values of each feature in our data by the corresponding most common value or mean.  \n",
    "\n",
    "  o  Divide data into two parts: 70% for **training** and 30% for **testing**\n",
    "\n",
    "</div>"
   ]
  },
  {
   "cell_type": "code",
   "execution_count": 47,
   "metadata": {
    "collapsed": false
   },
   "outputs": [],
   "source": [
    "from pyspark.mllib.tree import DecisionTree, DecisionTreeModel\n",
    "from pyspark.mllib.util import MLUtils\n",
    "from pyspark.mllib.regression import LabeledPoint\n",
    "\n",
    "\n",
    "def is_valid(value):\n",
    "    return value != \"NA\" and len(value) > 0\n",
    "\n",
    "data = cleaned_data\\\n",
    "    .map(lambda line: line.split(','))\\\n",
    "    .map(lambda values: \n",
    "        LabeledPoint( \n",
    "            int(values[14]) if is_valid(values[14]) else mean_arrival_delay, # arrival delay\n",
    "            [\n",
    "                int(values[0]), # year\n",
    "                int(values[1]) if is_valid(values[1]) else most_common_month, # month\n",
    "                int(values[2]) if is_valid(values[2]) else the_most_common_day_of_month, # day of month\n",
    "                int(values[3]) if is_valid(values[3]) else the_most_common_day_of_week, # day of week\n",
    "                float(values[5]) if is_valid(values[5]) else the_most_common_s_departure_time , # scheduled departure time\n",
    "                float(values[7]) if is_valid(values[7]) else the_most_common_s_arrival_time , # scheduled arrival time\n",
    "                # if the value is valid, map it to the corresponding index\n",
    "                # otherwise, use the most common value\n",
    "                map_carriers_to_index[values[8]] if is_valid(values[8]) \\\n",
    "                    else map_carriers_to_index[carriers[0]], # carrier\n",
    "                map_src_airport_to_index[values[16]] if is_valid(values[16]) \\\n",
    "                    else map_carriers_to_index[src_airports[0]], # src_airport\n",
    "                map_dest_airports_to_index[values[17]] if is_valid(values[17]) \\\n",
    "                    else map_carriers_to_index[dest_airports[0]], # destination_airport\n",
    "                int(values[18]) if is_valid(values[18]) else mean_distance, # distance\n",
    "                1 if is_valid(values[3]) and int(values[3]) >= 6 else 0, # is_weekend\n",
    "            ]\n",
    "        )\n",
    "    )\n",
    "\n",
    "# Split the data into training and test sets (30% held out for testing)\n",
    "(trainingData, testData) = data.randomSplit((0.7, 0.3))\n",
    "\n",
    "trainingData = trainingData.cache()\n",
    "testData = testData.cache()"
   ]
  },
  {
   "cell_type": "markdown",
   "metadata": {},
   "source": [
    "## 5.4 Building a decision tree model"
   ]
  },
  {
   "cell_type": "markdown",
   "metadata": {},
   "source": [
    "### Question 9\n",
    "<div class=\"alert alert-info\">\n",
    "We can train a decision model by using function\n",
    "<code>\n",
    "`DecisionTree.trainRegressor(<training_data>, categoricalFeaturesInfo=<categorical_info>, impurity=<impurity_function>,  maxDepth=<max_depth>, maxBins=<max_bins>)`.  \n",
    "</code>  \n",
    "\n",
    "Where,  \n",
    "<ul>\n",
    "\n",
    "<li> `training_data`: the data used for training  </li>\n",
    "\n",
    "<li> `categorical_info`: a dictionary that maps the index of each categorical features to its number of distinct values  </li>\n",
    "\n",
    "<li> `impurity_function`: the function that is used to calculate impurity of data in order to select the best split  </li>\n",
    "\n",
    "<li> `max_depth`: the maximum depth of the tree  </li>\n",
    "\n",
    "<li> `max_bins`: the maximum number of bins that the algorithm will divide on each feature. </li>\n",
    "\n",
    "</ul>  \n",
    "\n",
    "Note that, `max_bins` cannot smaller than the number distinct values of every categorical features.  \n",
    "\n",
    "Complete the code below to train a decision tree model.\n",
    "</div>\n"
   ]
  },
  {
   "cell_type": "code",
   "execution_count": 48,
   "metadata": {
    "collapsed": false
   },
   "outputs": [],
   "source": [
    "# declare information of categorical features\n",
    "# format:  feature_index : number_distinct_values\n",
    "# arrival_delay, month, dom, dow, sdt, sat, carr, src, dest, dist, is_week \n",
    "categorical_info = {6 : num_carriers, 7: num_src_airports, 8: num_dest_airports, 10: 2}\n",
    "\n",
    "# Train a DecisionTree model.\n",
    "model = DecisionTree.trainRegressor(trainingData, \n",
    "                                    categoricalFeaturesInfo=categorical_info,\n",
    "                                    impurity='variance', maxDepth=12, maxBins=255)"
   ]
  },
  {
   "cell_type": "markdown",
   "metadata": {
    "collapsed": true
   },
   "source": [
    "## 5.5 Testing the decision tree model"
   ]
  },
  {
   "cell_type": "markdown",
   "metadata": {},
   "source": [
    "### Question 10\n",
    "#### Question 10.1\n",
    "<div class=\"alert alert-info\">\n",
    "We often use Mean Square Error as a metric to evaluate the quality of a tree model.  \n",
    "\n",
    "Complete the code below to calculate the MSE of our trained model.\n",
    "</div>"
   ]
  },
  {
   "cell_type": "code",
   "execution_count": 49,
   "metadata": {
    "collapsed": true
   },
   "outputs": [],
   "source": [
    "# Evaluate model on test instances and compute test error\n",
    "predictions = model.predict(testData.map(lambda x: x.features))\n",
    "labelsAndPredictions = testData.map(lambda lp: lp.label).zip(predictions)"
   ]
  },
  {
   "cell_type": "code",
   "execution_count": 54,
   "metadata": {
    "collapsed": false
   },
   "outputs": [
    {
     "name": "stdout",
     "output_type": "stream",
     "text": [
      "Test Mean Squared Error = 490.0072588607552\n"
     ]
    }
   ],
   "source": [
    "#testMSE = labelsAndPredictions.map(lambda p: (p[0]-p[1])*(p[0]-p[1])).sum()/float(testData.count())\n",
    "testMSE = labelsAndPredictions.map(lambda p: (p[0]-p[1])*(p[0]-p[1])).mean()\n",
    "\n",
    "print('Test Mean Squared Error = ' + str(testMSE))\n",
    "\n",
    "#lambda p: (p[0]-p[1])*(p[0]-p[1])).sum()/float(testData.count()"
   ]
  },
  {
   "cell_type": "markdown",
   "metadata": {},
   "source": [
    "### Question 10.2\n",
    "<div class=\"alert alert-info\">\n",
    "Comment the results you have obtained. Is the MSE value you get from a decision tree indicating that our statistical model is very good in predicting airplane delays?  \n",
    "\n",
    "Use your own words to describe and interpret the value you obtained for the MSE.\n",
    "</div>"
   ]
  },
  {
   "cell_type": "markdown",
   "metadata": {},
   "source": [
    "<div class=\"alert alert-warning\"> PUT YOUR COMMENT HERE </div>"
   ]
  },
  {
   "cell_type": "markdown",
   "metadata": {},
   "source": [
    "## 5.6 Building random decision forest model (or random forest)\n",
    "Next, we use MLLib to build a more powerful model: random forests. In what follows, use the same predictors defined and computed above to build a decision tree, but this time use them to build a random decision forest."
   ]
  },
  {
   "cell_type": "markdown",
   "metadata": {},
   "source": [
    "### Question 11\n",
    "<div class=\"alert alert-info\">\n",
    "Train a random decision forest model and evaluate its quality using MSE metric.  \n",
    "\n",
    "Compare to decision tree model and comment the results.  \n",
    "\n",
    "Similarly to question 10.2, comment with your own words the MSE value you have obtained.\n",
    "</div>"
   ]
  },
  {
   "cell_type": "code",
   "execution_count": 53,
   "metadata": {
    "collapsed": false
   },
   "outputs": [
    {
     "name": "stdout",
     "output_type": "stream",
     "text": [
      "Test Mean Squared Error = 484.26036096828113\n"
     ]
    }
   ],
   "source": [
    "from pyspark.mllib.tree import RandomForest, RandomForestModel\n",
    "\n",
    "# Train a RandomForest model.\n",
    "forest_model = RandomForest.trainRegressor(trainingData, categoricalFeaturesInfo=categorical_info,\n",
    "                                    numTrees=10, impurity='variance', maxDepth=12, maxBins=255)\n",
    "\n",
    "# Evaluate model on test instances and compute test error\n",
    "predictions_forest_model = forest_model.predict(testData.map(lambda x: x.features))\n",
    "labelsAndPredictions_forest_model = testData.map(lambda lp: lp.label).zip(predictions_forest_model)\n",
    "\n",
    "testMSE_forest_model = labelsAndPredictions_forest_model.map(lambda p: (p[0]-p[1])*(p[0]-p[1])).sum()/float(testData.count())\n",
    "print('Test Mean Squared Error = ' + str(testMSE_forest_model))"
   ]
  },
  {
   "cell_type": "markdown",
   "metadata": {},
   "source": [
    "<div class=\"alert alert-warning\"> PUT YOUR COMMENT HERE </div>"
   ]
  },
  {
   "cell_type": "markdown",
   "metadata": {},
   "source": [
    "## 5.7 Parameter tuning\n",
    "In this lecture, we used `maxDepth=12`, `maxBins=255`, `numTrees=10`. Next, we are going to explore the meta-parameter space a little bit.\n",
    "\n",
    "For more information about parameter tuning, please read the documentation of [MLLIB](http://spark.apache.org/docs/latest/mllib-decision-tree.html#tunable-parameters)"
   ]
  },
  {
   "cell_type": "markdown",
   "metadata": {},
   "source": [
    "### Question 12\n",
    "<div class=\"alert alert-info\">\n",
    "Train the random forest model using different parameters, to understand their impact on the main performance metric we have used here, that is the MSE. For example, you can try a similar approach to that presented in the Notebook on recommender systems, that is using nested for loops.\n",
    "</div>\n",
    "\n",
    "<div class=\"alert alert-danger\">\n",
    "**NOTE:** be careful when selecting parameters as some might imply very long training times, or eventually, the typical memory problems that affect Spark!\n",
    "</div>"
   ]
  },
  {
   "cell_type": "markdown",
   "metadata": {},
   "source": [
    "# 6. Addition (bonus) questions\n",
    "As you may have noticed, the performance of our statistical models is somehow questionable! What are we missing here? Why is that even using state-of-the-art approaches give poor results?\n",
    "\n",
    "In what follows, we will try to address some of the limitations of the present Notebook, and provide additional data that might help.\n",
    "\n",
    "## 6.1. Additional data\n",
    "In the HDFS file system you have used for running the Notebook, you will notice that there are several other years available (in addition to 1994), which could be used to train a statistical model with more data. In the end, we're playing with \"Big Data\", hence one might think that feeding more training data to the algorithm should help!\n",
    "\n",
    "## 6.2. Feature selection\n",
    "\n",
    "You might think that the flight delays do not only depend on the source airport, destination airport, departure time, etc... as we assumed. They also depend on other features such as the weather, the origin country, the destination city,... To improve the prediction quality, we should consider these features too.\n",
    "\n",
    "There are some other datasets that related to this use case:\n",
    "\n",
    "- Airport IATA Codes to City names and Coordinates mapping: http://stat-computing.org/dataexpo/2009/airports.csv\n",
    "- Carrier codes to Full name mapping: http://stat-computing.org/dataexpo/2009/carriers.csv\n",
    "- Information about individual planes: http://stat-computing.org/dataexpo/2009/plane-data.csv\n",
    "- Weather information: http://www.wunderground.com/weather/api/. You can subscribe for free to the developers' API and obtain (at a limited rate) historical weather information in many different formats. Also, to get an idea of the kind of information is available, you can use this link: http://www.wunderground.com/history/\n"
   ]
  },
  {
   "cell_type": "markdown",
   "metadata": {},
   "source": [
    "### Question 13\n",
    "<div class=\"alert alert-info\">\n",
    "Using the data sources above, select additional feature and repeat the process of defining an appropriate training and test datasets, to evaluate the impact of new features on the performance of the model. Focus first on decision trees, then move to random forests.\n",
    "</div>"
   ]
  },
  {
   "cell_type": "markdown",
   "metadata": {},
   "source": [
    "> The important thing is to not stop questioning. Curiosity has its own reason for existence. (Albert Einstein)\n",
    "\n",
    "<div class=\"alert alert-success\">\n",
    "Be active! Ask yourself other questions which help you explore more about this data and try to answer them. Make this notebook be a part of your CV!\n",
    "</div>"
   ]
  },
  {
   "cell_type": "markdown",
   "metadata": {
    "collapsed": true
   },
   "source": [
    "# Summary\n",
    "In this lecture, we've had an overview about Decision Trees, Random Forests and how to use them. We also insisted on a simple methodology to adopt when dealing with a Data Science problem. \n",
    "The main take home messages should be:\n",
    "\n",
    "* Feature selection is a difficult, delicate and important task. In this project, the student was heavily guided. However, we invite to exercise with additional features, for example external ones related to weather conditions.\n",
    "\n",
    "* Parameter tuning requires a deep understanding of the algorithm used to build a statistical model. In general, to reduce computational cost, several techniques introduce parameters that, if tuned properly, can lead to tremendous time savings."
   ]
  }
 ],
 "metadata": {
  "kernelspec": {
   "display_name": "Python 3",
   "language": "python",
   "name": "python3"
  },
  "language_info": {
   "codemirror_mode": {
    "name": "ipython",
    "version": 3
   },
   "file_extension": ".py",
   "mimetype": "text/x-python",
   "name": "python",
   "nbconvert_exporter": "python",
   "pygments_lexer": "ipython3",
   "version": "3.5.2"
  }
 },
 "nbformat": 4,
 "nbformat_minor": 0
}
